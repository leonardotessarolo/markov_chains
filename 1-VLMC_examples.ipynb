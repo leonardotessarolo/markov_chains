{
 "cells": [
  {
   "cell_type": "code",
   "execution_count": 1,
   "id": "ef3c43bf-713f-415a-8366-aa5c9462a383",
   "metadata": {},
   "outputs": [
    {
     "data": {
      "text/plain": [
       "['./bct_solver.py',\n",
       " './vlmc.py',\n",
       " './context_algorithm_solver.py',\n",
       " './__init__.py',\n",
       " './counter.py',\n",
       " './utils.py',\n",
       " './bic_solver.py',\n",
       " './vlmc']"
      ]
     },
     "execution_count": 1,
     "metadata": {},
     "output_type": "execute_result"
    }
   ],
   "source": [
    "import numpy as np\n",
    "\n",
    "from vlmc import VLMC, BICSolver, ContextAlgorithmSolver\n",
    "from vlmc.utils import count_word_ocurrences\n",
    "\n",
    "import re\n",
    "import glob\n",
    "import copy\n",
    "glob.glob('./*')"
   ]
  },
  {
   "cell_type": "code",
   "execution_count": 2,
   "id": "3560955d-3bfa-4297-af6e-9fdca802e9b7",
   "metadata": {},
   "outputs": [],
   "source": [
    "def parse_txt_input(input_path):\n",
    "    \"\"\"\n",
    "        Função para ler e decodificar arquivos txt. Lê-se o arquivo e analisa-se cada linha\n",
    "        para obter o respectivo valor do estado. Retorna-se um array com a sequência de estados observados (observed_sequence).\n",
    "    \"\"\"\n",
    "\n",
    "    observed_sequence = []\n",
    "    with open(\n",
    "        input_path,\n",
    "        mode='r',\n",
    "        encoding='utf-8'\n",
    "    ) as f:\n",
    "        lines = f.readlines()\n",
    "        # Use regular expression to obtain sequence from input\n",
    "        observed_sequence = [\n",
    "            int(i) for i in re.search('[0-9]{1000,100000}', lines[-1]).group(0)\n",
    "        ]\n",
    "        \n",
    "    return observed_sequence"
   ]
  },
  {
   "cell_type": "markdown",
   "id": "4342bbfe-8eae-41d0-9121-079d89816d69",
   "metadata": {},
   "source": [
    "# BIC"
   ]
  },
  {
   "cell_type": "markdown",
   "id": "54eb248e-5b09-46fe-902a-6483b78905e7",
   "metadata": {},
   "source": [
    "### 1st Order sample"
   ]
  },
  {
   "cell_type": "code",
   "execution_count": 3,
   "id": "77039794-e708-471c-8753-3624245c8e14",
   "metadata": {},
   "outputs": [],
   "source": [
    "N_SAMPLES = 100000\n",
    "\n",
    "# Declare state space and mapping from state number to zero-indexed position in transition matrix\n",
    "STATE_SPACE = [\n",
    "    0,\n",
    "    1\n",
    "]\n",
    "STATE_TO_INDEX_MAP = {\n",
    "    s: i for i, s in enumerate(STATE_SPACE)\n",
    "}\n",
    "\n",
    "Q = np.array([\n",
    "    [0.2, 0.8],\n",
    "    [0.5, 0.5]\n",
    "])\n",
    "\n",
    "X = [1, 1]\n",
    "for i in range(len(X)-1, N_SAMPLES):\n",
    "    current_s = X[i]\n",
    "    X.append(\n",
    "        np.random.choice(\n",
    "            a=STATE_SPACE,\n",
    "            p=Q[current_s,:]\n",
    "        )\n",
    "    )"
   ]
  },
  {
   "cell_type": "code",
   "execution_count": 4,
   "id": "e1cd1c41-5cbe-4b64-87b7-fd2ddb4d1d39",
   "metadata": {
    "tags": []
   },
   "outputs": [
    {
     "data": {
      "text/plain": [
       "(100001, [1, 1, 1, 1, 1, 1, 1, 1, 0, 1])"
      ]
     },
     "execution_count": 4,
     "metadata": {},
     "output_type": "execute_result"
    }
   ],
   "source": [
    "chain = VLMC(\n",
    "    vocabulary=STATE_SPACE,\n",
    "    max_order=5\n",
    ")\n",
    "sample=copy.deepcopy(X)\n",
    "len(sample), sample[:10]"
   ]
  },
  {
   "cell_type": "code",
   "execution_count": 5,
   "id": "40a528b4-a21f-441e-90cb-4ed4a36ab9ed",
   "metadata": {},
   "outputs": [
    {
     "name": "stdout",
     "output_type": "stream",
     "text": [
      "root\n",
      "├── 0\n",
      "└── 1\n",
      "\n"
     ]
    }
   ],
   "source": [
    "chain.fit(\n",
    "    X=sample,\n",
    "    method='bic',\n",
    "    njobs=1\n",
    ")\n",
    "chain.show_tree()"
   ]
  },
  {
   "cell_type": "code",
   "execution_count": 6,
   "id": "61842dd9-dd47-404a-8028-1ecb48c07023",
   "metadata": {},
   "outputs": [
    {
     "data": {
      "text/plain": [
       "{'0': {'0': 0.20218240115843095, '1': 0.797817598841569},\n",
       " '1': {'0': 0.5031391158292974, '1': 0.4969261125515712}}"
      ]
     },
     "execution_count": 6,
     "metadata": {},
     "output_type": "execute_result"
    }
   ],
   "source": [
    "leaves = chain.get_leaves()\n",
    "{n.word: n.transition_probabilities for n in leaves}"
   ]
  },
  {
   "cell_type": "code",
   "execution_count": 7,
   "id": "1734ece6-0929-46d5-9653-764ab8d329e3",
   "metadata": {},
   "outputs": [
    {
     "data": {
      "text/plain": [
       "(array([0.2, 0.8]), array([0.5, 0.5]))"
      ]
     },
     "execution_count": 7,
     "metadata": {},
     "output_type": "execute_result"
    }
   ],
   "source": [
    "Q[0], Q[1]"
   ]
  },
  {
   "cell_type": "markdown",
   "id": "1b4e5a20-5ad6-4e92-b69f-98b074ade6a9",
   "metadata": {},
   "source": [
    "### 2nd Order sample"
   ]
  },
  {
   "cell_type": "code",
   "execution_count": 8,
   "id": "c49c6c8b-7fb1-4fb5-b3b7-63d8d893a76b",
   "metadata": {},
   "outputs": [],
   "source": [
    "N_SAMPLES = 100000\n",
    "\n",
    "# Declare state space and mapping from state number to zero-indexed position in transition matrix\n",
    "STATE_SPACE = [\n",
    "    0,\n",
    "    1\n",
    "]\n",
    "STATE_TO_INDEX_MAP = {\n",
    "    s: i for i, s in enumerate(STATE_SPACE)\n",
    "}\n",
    "\n",
    "Q = np.array([\n",
    "    [[0.2, 0.8],\n",
    "    [0.1, 0.9]],\n",
    "    [[0.4, 0.6],\n",
    "    [0.8, 0.2]]\n",
    "])\n",
    "\n",
    "X = [1, 1]\n",
    "for i in range(len(X)-1, N_SAMPLES):\n",
    "    # import pdb;pdb.set_trace()\n",
    "    current_s = X[i-1:i+1]\n",
    "    X.append(\n",
    "        np.random.choice(\n",
    "            a=STATE_SPACE,\n",
    "            p=Q[tuple(current_s)]\n",
    "        )\n",
    "    )"
   ]
  },
  {
   "cell_type": "code",
   "execution_count": 9,
   "id": "c8f0bcfc-f1ba-4bca-aa89-aa0a3e5ee45f",
   "metadata": {
    "tags": []
   },
   "outputs": [
    {
     "data": {
      "text/plain": [
       "(100001, [1, 1, 0, 1, 1, 1, 0, 1, 1, 0])"
      ]
     },
     "execution_count": 9,
     "metadata": {},
     "output_type": "execute_result"
    }
   ],
   "source": [
    "chain = VLMC(\n",
    "    vocabulary=STATE_SPACE,\n",
    "    max_order=5\n",
    ")\n",
    "sample=copy.deepcopy(X)\n",
    "len(sample), sample[:10]"
   ]
  },
  {
   "cell_type": "code",
   "execution_count": 10,
   "id": "7b238ada-15ce-43f6-9b74-993cdd07d814",
   "metadata": {},
   "outputs": [
    {
     "name": "stdout",
     "output_type": "stream",
     "text": [
      "root\n",
      "├── 0\n",
      "│   ├── 00\n",
      "│   └── 10\n",
      "└── 1\n",
      "    ├── 01\n",
      "    └── 11\n",
      "\n"
     ]
    }
   ],
   "source": [
    "chain.fit(\n",
    "    X=sample,\n",
    "    method='bic',\n",
    "    njobs=10\n",
    ")\n",
    "chain.show_tree()"
   ]
  },
  {
   "cell_type": "code",
   "execution_count": 11,
   "id": "c1db3bef-a338-4731-aa7d-e9248a7f56c9",
   "metadata": {},
   "outputs": [
    {
     "data": {
      "text/plain": [
       "{'00': {'0': 0.20077386070507308, '1': 0.7992261392949269},\n",
       " '10': {'0': 0.4055410122164049, '1': 0.5944953461314718},\n",
       " '01': {'0': 0.09984365341962695, '1': 0.9001927062502273},\n",
       " '11': {'0': 0.7978281184545484, '1': 0.20220410530725358}}"
      ]
     },
     "execution_count": 11,
     "metadata": {},
     "output_type": "execute_result"
    }
   ],
   "source": [
    "leaves = chain.get_leaves()\n",
    "{n.word: n.transition_probabilities for n in leaves}"
   ]
  },
  {
   "cell_type": "code",
   "execution_count": 12,
   "id": "e5af80ba-253a-409b-beed-1a13be6b0b83",
   "metadata": {},
   "outputs": [
    {
     "data": {
      "text/plain": [
       "(array([0.2, 0.8]), array([0.4, 0.6]), array([0.1, 0.9]), array([0.8, 0.2]))"
      ]
     },
     "execution_count": 12,
     "metadata": {},
     "output_type": "execute_result"
    }
   ],
   "source": [
    "Q[0,0], Q[1,0], Q[0,1], Q[1, 1]"
   ]
  },
  {
   "cell_type": "markdown",
   "id": "df5d7a30-00b9-4ebc-ad75-32b59cc33e3d",
   "metadata": {},
   "source": [
    "### 4th order complex tree"
   ]
  },
  {
   "cell_type": "code",
   "execution_count": 13,
   "id": "a641673c-9f15-4d2a-87b9-9b1876769979",
   "metadata": {},
   "outputs": [],
   "source": [
    "def dirichlet_gen_fn():\n",
    "    is_valid=False\n",
    "    while not is_valid:\n",
    "        probs = np.random.dirichlet(\n",
    "            alpha = [0.5, 0.5, 0.5]\n",
    "        )\n",
    "        if max(probs)<0.8 and min(probs)>0.2:\n",
    "            is_valid=True\n",
    "    return probs"
   ]
  },
  {
   "cell_type": "code",
   "execution_count": 14,
   "id": "b32fdb03-acf2-4b4f-b417-5828b3d2dd71",
   "metadata": {},
   "outputs": [
    {
     "data": {
      "text/plain": [
       "{'0': array([0.31864081, 0.34611793, 0.33524125]),\n",
       " '11': array([0.47350405, 0.25550706, 0.27098889]),\n",
       " '21': array([0.20026899, 0.22089417, 0.57883685]),\n",
       " '001': array([0.4217682 , 0.32946914, 0.24876266]),\n",
       " '101': array([0.2047283 , 0.44162982, 0.35364188]),\n",
       " '0201': array([0.35185035, 0.3982676 , 0.24988205]),\n",
       " '1201': array([0.28817417, 0.40405546, 0.30777037]),\n",
       " '2201': array([0.31144029, 0.25643527, 0.43212444]),\n",
       " '02': array([0.21221545, 0.25673943, 0.53104512]),\n",
       " '12': array([0.45217178, 0.32291338, 0.22491484]),\n",
       " '022': array([0.31558255, 0.32329551, 0.36112194]),\n",
       " '122': array([0.51130114, 0.25630526, 0.2323936 ]),\n",
       " '222': array([0.29589254, 0.36638082, 0.33772664])}"
      ]
     },
     "execution_count": 14,
     "metadata": {},
     "output_type": "execute_result"
    }
   ],
   "source": [
    "N_SAMPLES=1000000\n",
    "MAX_DEPTH = 4\n",
    "STATE_SPACE = [\n",
    "    0,\n",
    "    1,\n",
    "    2\n",
    "]\n",
    "\n",
    "contexts = [\n",
    "    '0',\n",
    "    '11',\n",
    "    '21',\n",
    "    '001',\n",
    "    '101',\n",
    "    '0201',\n",
    "    '1201',\n",
    "    '2201',\n",
    "    '02',\n",
    "    '12',\n",
    "    '022',\n",
    "    '122',\n",
    "    '222'\n",
    "]\n",
    "\n",
    "context_probs = {\n",
    "    c: dirichlet_gen_fn() for c in contexts\n",
    "}\n",
    "context_probs"
   ]
  },
  {
   "cell_type": "code",
   "execution_count": 15,
   "id": "c11dfd83-93e9-4bde-8b6d-0fef2abe3138",
   "metadata": {},
   "outputs": [],
   "source": [
    "def context_identification_fn(full_word, ctxts):\n",
    "    context_found = False\n",
    "    context=None\n",
    "    word = copy.deepcopy(full_word)\n",
    "    while not context_found:\n",
    "        if len(word)==0:\n",
    "            import pdb;pdb.set_trace()\n",
    "        if word in ctxts:\n",
    "            context=word\n",
    "            context_found=True\n",
    "        else:\n",
    "            word = word[1:]\n",
    "            \n",
    "            \n",
    "    return context"
   ]
  },
  {
   "cell_type": "code",
   "execution_count": 16,
   "id": "608a1ec6-4221-4667-8a19-a0e045ae8923",
   "metadata": {},
   "outputs": [],
   "source": [
    "sample = [0, 0, 1, 1]\n",
    "i=MAX_DEPTH\n",
    "while len(sample) < N_SAMPLES:\n",
    "    word = ''.join(\n",
    "        [str(x) for x in sample[i-MAX_DEPTH:i]]\n",
    "    )\n",
    "    ctxt = context_identification_fn(\n",
    "        full_word=word,\n",
    "        ctxts=contexts\n",
    "    )\n",
    "    new_state = np.random.choice(\n",
    "        a=STATE_SPACE,\n",
    "        p=context_probs[ctxt]\n",
    "    )\n",
    "    sample.append(new_state)\n",
    "    i+=1\n",
    "    "
   ]
  },
  {
   "cell_type": "code",
   "execution_count": 17,
   "id": "8be24c16-55d3-495a-b0d9-39713ffbb83e",
   "metadata": {
    "tags": []
   },
   "outputs": [
    {
     "data": {
      "text/plain": [
       "(1000000, [0, 0, 1, 1, 2, 0, 0, 2, 2, 0])"
      ]
     },
     "execution_count": 17,
     "metadata": {},
     "output_type": "execute_result"
    }
   ],
   "source": [
    "chain = VLMC(\n",
    "    vocabulary=STATE_SPACE,\n",
    "    max_order=5\n",
    ")\n",
    "len(sample), sample[:10]"
   ]
  },
  {
   "cell_type": "code",
   "execution_count": 18,
   "id": "2d151d05-9b22-4e5c-b201-fe3fb98bc14c",
   "metadata": {},
   "outputs": [
    {
     "name": "stdout",
     "output_type": "stream",
     "text": [
      "root\n",
      "├── 0\n",
      "├── 1\n",
      "│   ├── 01\n",
      "│   │   ├── 001\n",
      "│   │   ├── 101\n",
      "│   │   └── 201\n",
      "│   │       ├── 0201\n",
      "│   │       ├── 1201\n",
      "│   │       └── 2201\n",
      "│   ├── 11\n",
      "│   └── 21\n",
      "└── 2\n",
      "    ├── 02\n",
      "    ├── 12\n",
      "    └── 22\n",
      "        ├── 022\n",
      "        ├── 122\n",
      "        └── 222\n",
      "\n"
     ]
    }
   ],
   "source": [
    "chain.fit(\n",
    "    X=sample,\n",
    "    method='bic',\n",
    "    njobs=10\n",
    ")\n",
    "chain.show_tree()"
   ]
  },
  {
   "cell_type": "code",
   "execution_count": 19,
   "id": "6b85c09c-f1f2-4a80-86ba-c2790df35f5c",
   "metadata": {},
   "outputs": [
    {
     "data": {
      "text/plain": [
       "{'0': {'0': 0.3180207155733447,\n",
       "  '1': 0.34653365516819945,\n",
       "  '2': 0.3354517400470531},\n",
       " '001': {'0': 0.4228482524865255,\n",
       "  '1': 0.32811024059565486,\n",
       "  '2': 0.24906928932599878},\n",
       " '101': {'0': 0.20839480459371112,\n",
       "  '1': 0.4375885909340739,\n",
       "  '2': 0.354016604472215},\n",
       " '0201': {'0': 0.345224541429475,\n",
       "  '1': 0.4054395951929159,\n",
       "  '2': 0.2493358633776091},\n",
       " '1201': {'0': 0.2861643340391468,\n",
       "  '1': 0.4031916541858183,\n",
       "  '2': 0.31064401177503487},\n",
       " '2201': {'0': 0.30824510747513634,\n",
       "  '1': 0.2544112929098492,\n",
       "  '2': 0.43734359961501446},\n",
       " '11': {'0': 0.46957343199991003,\n",
       "  '1': 0.25684049528222314,\n",
       "  '2': 0.27359731890821987},\n",
       " '21': {'0': 0.20117872079508745,\n",
       "  '1': 0.22117487714032086,\n",
       "  '2': 0.5776464020645917},\n",
       " '02': {'0': 0.2108590113763674,\n",
       "  '1': 0.2568198999899808,\n",
       "  '2': 0.5323210886336518},\n",
       " '12': {'0': 0.4527715000850526,\n",
       "  '1': 0.3230541177614153,\n",
       "  '2': 0.2241743821535321},\n",
       " '022': {'0': 0.3147511250278049,\n",
       "  '1': 0.32296425577057986,\n",
       "  '2': 0.36228461920161525},\n",
       " '122': {'0': 0.509412827461608,\n",
       "  '1': 0.25373080397470643,\n",
       "  '2': 0.23685636856368564},\n",
       " '222': {'0': 0.2978509307841587,\n",
       "  '1': 0.3664678118785788,\n",
       "  '2': 0.3356812573372625}}"
      ]
     },
     "execution_count": 19,
     "metadata": {},
     "output_type": "execute_result"
    }
   ],
   "source": [
    "leaves = chain.get_leaves()\n",
    "{n.word: n.transition_probabilities for n in leaves}"
   ]
  },
  {
   "cell_type": "code",
   "execution_count": 20,
   "id": "b22a7c61-abb7-402a-ae3b-9b7cae6bfe4b",
   "metadata": {},
   "outputs": [
    {
     "data": {
      "text/plain": [
       "{'0': array([0.31864081, 0.34611793, 0.33524125]),\n",
       " '11': array([0.47350405, 0.25550706, 0.27098889]),\n",
       " '21': array([0.20026899, 0.22089417, 0.57883685]),\n",
       " '001': array([0.4217682 , 0.32946914, 0.24876266]),\n",
       " '101': array([0.2047283 , 0.44162982, 0.35364188]),\n",
       " '0201': array([0.35185035, 0.3982676 , 0.24988205]),\n",
       " '1201': array([0.28817417, 0.40405546, 0.30777037]),\n",
       " '2201': array([0.31144029, 0.25643527, 0.43212444]),\n",
       " '02': array([0.21221545, 0.25673943, 0.53104512]),\n",
       " '12': array([0.45217178, 0.32291338, 0.22491484]),\n",
       " '022': array([0.31558255, 0.32329551, 0.36112194]),\n",
       " '122': array([0.51130114, 0.25630526, 0.2323936 ]),\n",
       " '222': array([0.29589254, 0.36638082, 0.33772664])}"
      ]
     },
     "execution_count": 20,
     "metadata": {},
     "output_type": "execute_result"
    }
   ],
   "source": [
    "context_probs"
   ]
  },
  {
   "cell_type": "markdown",
   "id": "5d316fa4-e4c4-4579-a88d-1b86f1dff7f5",
   "metadata": {},
   "source": [
    "# Context Algorithm"
   ]
  },
  {
   "cell_type": "markdown",
   "id": "6f928f80-ebdd-47dc-a177-c9417d6e5328",
   "metadata": {},
   "source": [
    "### 1st Order sample"
   ]
  },
  {
   "cell_type": "code",
   "execution_count": 21,
   "id": "a98c2c62-88fd-4196-bcc1-85f220d1d0e3",
   "metadata": {},
   "outputs": [],
   "source": [
    "N_SAMPLES = 100000\n",
    "\n",
    "# Declare state space and mapping from state number to zero-indexed position in transition matrix\n",
    "STATE_SPACE = [\n",
    "    0,\n",
    "    1\n",
    "]\n",
    "STATE_TO_INDEX_MAP = {\n",
    "    s: i for i, s in enumerate(STATE_SPACE)\n",
    "}\n",
    "\n",
    "Q = np.array([\n",
    "    [0.2, 0.8],\n",
    "    [0.5, 0.5]\n",
    "])\n",
    "\n",
    "X = [1, 1]\n",
    "for i in range(len(X)-1, N_SAMPLES):\n",
    "    current_s = X[i]\n",
    "    X.append(\n",
    "        np.random.choice(\n",
    "            a=STATE_SPACE,\n",
    "            p=Q[current_s,:]\n",
    "        )\n",
    "    )"
   ]
  },
  {
   "cell_type": "code",
   "execution_count": 22,
   "id": "4c36dd72-11a5-4a01-b9d8-fd0e8209b163",
   "metadata": {
    "tags": []
   },
   "outputs": [
    {
     "data": {
      "text/plain": [
       "(100001, [1, 1, 0, 1, 0, 1, 1, 1, 1, 0])"
      ]
     },
     "execution_count": 22,
     "metadata": {},
     "output_type": "execute_result"
    }
   ],
   "source": [
    "chain = VLMC(\n",
    "    vocabulary=STATE_SPACE,\n",
    "    max_order=5\n",
    ")\n",
    "sample=copy.deepcopy(X)\n",
    "len(sample), sample[:10]"
   ]
  },
  {
   "cell_type": "code",
   "execution_count": 23,
   "id": "a1037b66-7738-4633-9ccf-838230e8d338",
   "metadata": {},
   "outputs": [
    {
     "name": "stdout",
     "output_type": "stream",
     "text": [
      "root\n",
      "├── 0\n",
      "└── 1\n",
      "\n"
     ]
    }
   ],
   "source": [
    "chain.fit(\n",
    "    X=sample,\n",
    "    method='context',\n",
    "    njobs=1\n",
    ")\n",
    "chain.show_tree()"
   ]
  },
  {
   "cell_type": "code",
   "execution_count": 24,
   "id": "10655a05-712c-49a0-bfe1-b7d5c1d4db27",
   "metadata": {},
   "outputs": [
    {
     "data": {
      "text/plain": [
       "{'0': {'0': 0.1985887621725772, '1': 0.8014372754257147},\n",
       " '1': {'0': 0.4997564539698003, '1': 0.5002922552362397}}"
      ]
     },
     "execution_count": 24,
     "metadata": {},
     "output_type": "execute_result"
    }
   ],
   "source": [
    "leaves = chain.get_leaves()\n",
    "{n.word: n.transition_probabilities for n in leaves}"
   ]
  },
  {
   "cell_type": "code",
   "execution_count": 25,
   "id": "6899f5a2-7f02-40d1-815f-794fbe75a6a6",
   "metadata": {},
   "outputs": [
    {
     "data": {
      "text/plain": [
       "(array([0.2, 0.8]), array([0.5, 0.5]))"
      ]
     },
     "execution_count": 25,
     "metadata": {},
     "output_type": "execute_result"
    }
   ],
   "source": [
    "Q[0], Q[1]"
   ]
  },
  {
   "cell_type": "markdown",
   "id": "9d842bf6-a426-4abb-a888-2f78fec4dddb",
   "metadata": {},
   "source": [
    "### 2nd Order sample"
   ]
  },
  {
   "cell_type": "code",
   "execution_count": 26,
   "id": "43ef5510-5bef-4157-a935-8ff0f3176712",
   "metadata": {},
   "outputs": [],
   "source": [
    "N_SAMPLES = 100000\n",
    "\n",
    "# Declare state space and mapping from state number to zero-indexed position in transition matrix\n",
    "STATE_SPACE = [\n",
    "    0,\n",
    "    1\n",
    "]\n",
    "STATE_TO_INDEX_MAP = {\n",
    "    s: i for i, s in enumerate(STATE_SPACE)\n",
    "}\n",
    "\n",
    "Q = np.array([\n",
    "    [[0.2, 0.8],\n",
    "    [0.1, 0.9]],\n",
    "    [[0.4, 0.6],\n",
    "    [0.8, 0.2]]\n",
    "])\n",
    "\n",
    "X = [1, 1]\n",
    "for i in range(len(X)-1, N_SAMPLES):\n",
    "    # import pdb;pdb.set_trace()\n",
    "    current_s = X[i-1:i+1]\n",
    "    X.append(\n",
    "        np.random.choice(\n",
    "            a=STATE_SPACE,\n",
    "            p=Q[tuple(current_s)]\n",
    "        )\n",
    "    )"
   ]
  },
  {
   "cell_type": "code",
   "execution_count": 27,
   "id": "b2c6787c-7fe2-4566-abda-ca0e794cb26a",
   "metadata": {
    "tags": []
   },
   "outputs": [
    {
     "data": {
      "text/plain": [
       "(100001, [1, 1, 1, 0, 0, 1, 1, 0, 0, 1])"
      ]
     },
     "execution_count": 27,
     "metadata": {},
     "output_type": "execute_result"
    }
   ],
   "source": [
    "chain = VLMC(\n",
    "    vocabulary=STATE_SPACE,\n",
    "    max_order=5\n",
    ")\n",
    "sample=copy.deepcopy(X)\n",
    "len(sample), sample[:10]"
   ]
  },
  {
   "cell_type": "code",
   "execution_count": 28,
   "id": "ddb72338-68b7-4ae9-8aab-21b704bfd502",
   "metadata": {},
   "outputs": [
    {
     "name": "stdout",
     "output_type": "stream",
     "text": [
      "root\n",
      "├── 0\n",
      "│   ├── 00\n",
      "│   └── 10\n",
      "└── 1\n",
      "    ├── 01\n",
      "    └── 11\n",
      "\n"
     ]
    }
   ],
   "source": [
    "chain.fit(\n",
    "    X=sample,\n",
    "    method='context',\n",
    "    njobs=10\n",
    ")\n",
    "chain.show_tree()"
   ]
  },
  {
   "cell_type": "code",
   "execution_count": 29,
   "id": "aa0f299e-ec18-4b94-b0bc-a5d85fae17ea",
   "metadata": {},
   "outputs": [
    {
     "data": {
      "text/plain": [
       "{'00': {'0': 0.20469798657718122, '1': 0.7953020134228188},\n",
       " '10': {'0': 0.4056366747988202, '1': 0.5943997378290792},\n",
       " '01': {'0': 0.09798638167716564, '1': 0.9020136183228343},\n",
       " '11': {'0': 0.7974826165336081, '1': 0.2025817666752511}}"
      ]
     },
     "execution_count": 29,
     "metadata": {},
     "output_type": "execute_result"
    }
   ],
   "source": [
    "leaves = chain.get_leaves()\n",
    "{n.word: n.transition_probabilities for n in leaves}"
   ]
  },
  {
   "cell_type": "code",
   "execution_count": 30,
   "id": "13eb15de-0f17-432b-8944-a324f700bfb0",
   "metadata": {},
   "outputs": [
    {
     "data": {
      "text/plain": [
       "(array([0.2, 0.8]), array([0.4, 0.6]), array([0.1, 0.9]), array([0.8, 0.2]))"
      ]
     },
     "execution_count": 30,
     "metadata": {},
     "output_type": "execute_result"
    }
   ],
   "source": [
    "Q[0,0], Q[1,0], Q[0,1], Q[1, 1]"
   ]
  },
  {
   "cell_type": "markdown",
   "id": "a5b91fcf-24a0-48d9-91c8-7ecd87b4679f",
   "metadata": {},
   "source": [
    "### 4th order complex tree"
   ]
  },
  {
   "cell_type": "code",
   "execution_count": 31,
   "id": "09ddcb2b-28ea-4540-ae7e-ce85dfb96398",
   "metadata": {},
   "outputs": [],
   "source": [
    "def dirichlet_gen_fn():\n",
    "    is_valid=False\n",
    "    while not is_valid:\n",
    "        probs = np.random.dirichlet(\n",
    "            alpha = [0.5, 0.5, 0.5]\n",
    "        )\n",
    "        if max(probs)<0.8 and min(probs)>0.2:\n",
    "            is_valid=True\n",
    "    return probs"
   ]
  },
  {
   "cell_type": "code",
   "execution_count": 32,
   "id": "7911dc98-9b9d-490c-82ce-0d4179f586c9",
   "metadata": {},
   "outputs": [
    {
     "data": {
      "text/plain": [
       "{'0': array([0.23194884, 0.33482282, 0.43322834]),\n",
       " '11': array([0.25113573, 0.48671173, 0.26215255]),\n",
       " '21': array([0.40541961, 0.30127287, 0.29330751]),\n",
       " '001': array([0.43609657, 0.27046525, 0.29343818]),\n",
       " '101': array([0.35680587, 0.32242059, 0.32077355]),\n",
       " '0201': array([0.58897249, 0.20744677, 0.20358074]),\n",
       " '1201': array([0.32614799, 0.41510292, 0.25874908]),\n",
       " '2201': array([0.34191507, 0.4358539 , 0.22223103]),\n",
       " '02': array([0.438764  , 0.22268923, 0.33854677]),\n",
       " '12': array([0.32952598, 0.4385052 , 0.23196883]),\n",
       " '022': array([0.42112011, 0.29419569, 0.2846842 ]),\n",
       " '122': array([0.30532478, 0.20746017, 0.48721505]),\n",
       " '222': array([0.35353038, 0.35448591, 0.2919837 ])}"
      ]
     },
     "execution_count": 32,
     "metadata": {},
     "output_type": "execute_result"
    }
   ],
   "source": [
    "N_SAMPLES=1000000\n",
    "MAX_DEPTH = 4\n",
    "STATE_SPACE = [\n",
    "    0,\n",
    "    1,\n",
    "    2\n",
    "]\n",
    "\n",
    "contexts = [\n",
    "    '0',\n",
    "    '11',\n",
    "    '21',\n",
    "    '001',\n",
    "    '101',\n",
    "    '0201',\n",
    "    '1201',\n",
    "    '2201',\n",
    "    '02',\n",
    "    '12',\n",
    "    '022',\n",
    "    '122',\n",
    "    '222'\n",
    "]\n",
    "\n",
    "context_probs = {\n",
    "    c: dirichlet_gen_fn() for c in contexts\n",
    "}\n",
    "context_probs"
   ]
  },
  {
   "cell_type": "code",
   "execution_count": 33,
   "id": "2106fd52-899e-4da1-98fd-c118cdb83202",
   "metadata": {},
   "outputs": [],
   "source": [
    "def context_identification_fn(full_word, ctxts):\n",
    "    context_found = False\n",
    "    context=None\n",
    "    word = copy.deepcopy(full_word)\n",
    "    while not context_found:\n",
    "        if len(word)==0:\n",
    "            import pdb;pdb.set_trace()\n",
    "        if word in ctxts:\n",
    "            context=word\n",
    "            context_found=True\n",
    "        else:\n",
    "            word = word[1:]\n",
    "            \n",
    "            \n",
    "    return context"
   ]
  },
  {
   "cell_type": "code",
   "execution_count": 34,
   "id": "cbe5cdf2-de32-43e1-8f36-a8505263168e",
   "metadata": {},
   "outputs": [],
   "source": [
    "sample = [0, 0, 1, 1]\n",
    "i=MAX_DEPTH\n",
    "while len(sample) < N_SAMPLES:\n",
    "    word = ''.join(\n",
    "        [str(x) for x in sample[i-MAX_DEPTH:i]]\n",
    "    )\n",
    "    ctxt = context_identification_fn(\n",
    "        full_word=word,\n",
    "        ctxts=contexts\n",
    "    )\n",
    "    new_state = np.random.choice(\n",
    "        a=STATE_SPACE,\n",
    "        p=context_probs[ctxt]\n",
    "    )\n",
    "    sample.append(new_state)\n",
    "    i+=1\n",
    "    "
   ]
  },
  {
   "cell_type": "code",
   "execution_count": 35,
   "id": "a067fa36-f2a3-48a9-b39a-b93592153d37",
   "metadata": {
    "tags": []
   },
   "outputs": [
    {
     "data": {
      "text/plain": [
       "(1000000, [0, 0, 1, 1, 1, 1, 2, 1, 0, 1])"
      ]
     },
     "execution_count": 35,
     "metadata": {},
     "output_type": "execute_result"
    }
   ],
   "source": [
    "chain = VLMC(\n",
    "    vocabulary=STATE_SPACE,\n",
    "    max_order=5\n",
    ")\n",
    "len(sample), sample[:10]"
   ]
  },
  {
   "cell_type": "code",
   "execution_count": 36,
   "id": "cd8a6cf4-5d6f-4331-a4f2-a1d61e4b5019",
   "metadata": {},
   "outputs": [
    {
     "name": "stdout",
     "output_type": "stream",
     "text": [
      "root\n",
      "├── 0\n",
      "├── 1\n",
      "│   ├── 01\n",
      "│   │   ├── 001\n",
      "│   │   ├── 101\n",
      "│   │   └── 201\n",
      "│   │       ├── 0201\n",
      "│   │       ├── 1201\n",
      "│   │       └── 2201\n",
      "│   ├── 11\n",
      "│   └── 21\n",
      "└── 2\n",
      "    ├── 02\n",
      "    ├── 12\n",
      "    └── 22\n",
      "        ├── 022\n",
      "        ├── 122\n",
      "        └── 222\n",
      "\n"
     ]
    }
   ],
   "source": [
    "chain.fit(\n",
    "    X=sample,\n",
    "    method='context',\n",
    "    njobs=10\n",
    ")\n",
    "chain.show_tree()"
   ]
  },
  {
   "cell_type": "code",
   "execution_count": 37,
   "id": "c4aaed8f-7366-4953-aaa3-3c882dc7ae8c",
   "metadata": {},
   "outputs": [
    {
     "data": {
      "text/plain": [
       "{'0': {'0': 0.2315731776414653,\n",
       "  '1': 0.3354950360899662,\n",
       "  '2': 0.43293794496588084},\n",
       " '001': {'0': 0.4334439965220141,\n",
       "  '1': 0.2664216267488736,\n",
       "  '2': 0.3001738992964983},\n",
       " '101': {'0': 0.35352519793892173,\n",
       "  '1': 0.32363956264923965,\n",
       "  '2': 0.3228352394118386},\n",
       " '0201': {'0': 0.5913857860592167,\n",
       "  '1': 0.20535583630066825,\n",
       "  '2': 0.20325837764011512},\n",
       " '1201': {'0': 0.32567646486276036,\n",
       "  '1': 0.41794821880474986,\n",
       "  '2': 0.2563753163324898},\n",
       " '2201': {'0': 0.34927790937571634,\n",
       "  '1': 0.4311912585008023,\n",
       "  '2': 0.21953083212348132},\n",
       " '11': {'0': 0.253236098450319,\n",
       "  '1': 0.48686140065792083,\n",
       "  '2': 0.2599104276485276},\n",
       " '21': {'0': 0.405844566030768,\n",
       "  '1': 0.30100389702523833,\n",
       "  '2': 0.29315153694399365},\n",
       " '02': {'0': 0.43668293099278777,\n",
       "  '1': 0.22192981208301918,\n",
       "  '2': 0.3413872569241931},\n",
       " '12': {'0': 0.3280969624034298,\n",
       "  '1': 0.4404138953657043,\n",
       "  '2': 0.23148914223086595},\n",
       " '022': {'0': 0.42115132195762234,\n",
       "  '1': 0.2962060128758047,\n",
       "  '2': 0.28264266516657294},\n",
       " '122': {'0': 0.3023115484589677,\n",
       "  '1': 0.2103601930932046,\n",
       "  '2': 0.4873282584478277},\n",
       " '222': {'0': 0.35554837572695763,\n",
       "  '1': 0.35128943194501555,\n",
       "  '2': 0.29316219232802676}}"
      ]
     },
     "execution_count": 37,
     "metadata": {},
     "output_type": "execute_result"
    }
   ],
   "source": [
    "leaves = chain.get_leaves()\n",
    "{n.word: n.transition_probabilities for n in leaves}"
   ]
  },
  {
   "cell_type": "code",
   "execution_count": 38,
   "id": "89f6e6eb-8670-4714-a640-156e8f8cfe91",
   "metadata": {},
   "outputs": [
    {
     "data": {
      "text/plain": [
       "{'0': array([0.23194884, 0.33482282, 0.43322834]),\n",
       " '11': array([0.25113573, 0.48671173, 0.26215255]),\n",
       " '21': array([0.40541961, 0.30127287, 0.29330751]),\n",
       " '001': array([0.43609657, 0.27046525, 0.29343818]),\n",
       " '101': array([0.35680587, 0.32242059, 0.32077355]),\n",
       " '0201': array([0.58897249, 0.20744677, 0.20358074]),\n",
       " '1201': array([0.32614799, 0.41510292, 0.25874908]),\n",
       " '2201': array([0.34191507, 0.4358539 , 0.22223103]),\n",
       " '02': array([0.438764  , 0.22268923, 0.33854677]),\n",
       " '12': array([0.32952598, 0.4385052 , 0.23196883]),\n",
       " '022': array([0.42112011, 0.29419569, 0.2846842 ]),\n",
       " '122': array([0.30532478, 0.20746017, 0.48721505]),\n",
       " '222': array([0.35353038, 0.35448591, 0.2919837 ])}"
      ]
     },
     "execution_count": 38,
     "metadata": {},
     "output_type": "execute_result"
    }
   ],
   "source": [
    "context_probs"
   ]
  },
  {
   "cell_type": "markdown",
   "id": "af102e1a-6141-40fb-9ba8-60c698fe8688",
   "metadata": {},
   "source": [
    "# BCT"
   ]
  },
  {
   "cell_type": "markdown",
   "id": "7099e198-fda4-4dfc-81c4-ead2552faa13",
   "metadata": {},
   "source": [
    "### 1st Order sample"
   ]
  },
  {
   "cell_type": "code",
   "execution_count": 39,
   "id": "697afe74-e369-4d05-87df-32711b7b7000",
   "metadata": {},
   "outputs": [],
   "source": [
    "N_SAMPLES = 100000\n",
    "\n",
    "# Declare state space and mapping from state number to zero-indexed position in transition matrix\n",
    "STATE_SPACE = [\n",
    "    0,\n",
    "    1\n",
    "]\n",
    "STATE_TO_INDEX_MAP = {\n",
    "    s: i for i, s in enumerate(STATE_SPACE)\n",
    "}\n",
    "\n",
    "Q = np.array([\n",
    "    [0.2, 0.8],\n",
    "    [0.5, 0.5]\n",
    "])\n",
    "\n",
    "X = [1, 1]\n",
    "for i in range(len(X)-1, N_SAMPLES):\n",
    "    current_s = X[i]\n",
    "    X.append(\n",
    "        np.random.choice(\n",
    "            a=STATE_SPACE,\n",
    "            p=Q[current_s,:]\n",
    "        )\n",
    "    )"
   ]
  },
  {
   "cell_type": "code",
   "execution_count": 40,
   "id": "a333ff46-46f3-4739-b489-12a97914ac93",
   "metadata": {
    "tags": []
   },
   "outputs": [
    {
     "data": {
      "text/plain": [
       "(100001, [1, 1, 1, 0, 1, 1, 0, 1, 0, 1])"
      ]
     },
     "execution_count": 40,
     "metadata": {},
     "output_type": "execute_result"
    }
   ],
   "source": [
    "chain = VLMC(\n",
    "    vocabulary=STATE_SPACE,\n",
    "    max_order=5\n",
    ")\n",
    "sample=copy.deepcopy(X)\n",
    "len(sample), sample[:10]"
   ]
  },
  {
   "cell_type": "code",
   "execution_count": 41,
   "id": "a4dd9b4e-4893-43f3-9c0f-c7b6fb5bcdb1",
   "metadata": {},
   "outputs": [
    {
     "name": "stderr",
     "output_type": "stream",
     "text": [
      "/home/leonardo/git/markov_chains/vlmc/vlmc/bct_solver.py:33: VisibleDeprecationWarning: Creating an ndarray from ragged nested sequences (which is a list-or-tuple of lists-or-tuples-or ndarrays with different lengths or shapes) is deprecated. If you meant to do this, you must specify 'dtype=object' when creating the ndarray.\n",
      "  prod_vectors = np.array([\n",
      "/home/leonardo/git/markov_chains/vlmc/vlmc/bct_solver.py:90: VisibleDeprecationWarning: Creating an ndarray from ragged nested sequences (which is a list-or-tuple of lists-or-tuples-or ndarrays with different lengths or shapes) is deprecated. If you meant to do this, you must specify 'dtype=object' when creating the ndarray.\n",
      "  prod_vectors = np.array([\n"
     ]
    },
    {
     "name": "stdout",
     "output_type": "stream",
     "text": [
      "root\n",
      "├── 0\n",
      "└── 1\n",
      "\n"
     ]
    }
   ],
   "source": [
    "chain.fit(\n",
    "    X=sample,\n",
    "    method='bct',\n",
    "    njobs=1\n",
    ")\n",
    "chain.show_tree()"
   ]
  },
  {
   "cell_type": "code",
   "execution_count": 42,
   "id": "f311aedc-cd12-472b-8c4e-c30102b885ac",
   "metadata": {},
   "outputs": [
    {
     "data": {
      "text/plain": [
       "{'0': {'0': 0.1978131212723658, '1': 0.8022130375640891},\n",
       " '1': {'0': 0.4964868540344515, '1': 0.5035617148037819}}"
      ]
     },
     "execution_count": 42,
     "metadata": {},
     "output_type": "execute_result"
    }
   ],
   "source": [
    "leaves = chain.get_leaves()\n",
    "{n.word: n.transition_probabilities for n in leaves}"
   ]
  },
  {
   "cell_type": "code",
   "execution_count": 43,
   "id": "e1b5b6bf-94e3-4f4c-b202-7ba40aad62eb",
   "metadata": {},
   "outputs": [
    {
     "data": {
      "text/plain": [
       "(array([0.2, 0.8]), array([0.5, 0.5]))"
      ]
     },
     "execution_count": 43,
     "metadata": {},
     "output_type": "execute_result"
    }
   ],
   "source": [
    "Q[0], Q[1]"
   ]
  },
  {
   "cell_type": "markdown",
   "id": "8112edcf-4e52-4286-b38c-ccf34ca8f970",
   "metadata": {},
   "source": [
    "### 2nd Order sample"
   ]
  },
  {
   "cell_type": "code",
   "execution_count": 44,
   "id": "6b3a0bc8-c223-4b7f-880e-5f54d0e060f8",
   "metadata": {},
   "outputs": [],
   "source": [
    "N_SAMPLES = 100000\n",
    "\n",
    "# Declare state space and mapping from state number to zero-indexed position in transition matrix\n",
    "STATE_SPACE = [\n",
    "    0,\n",
    "    1\n",
    "]\n",
    "STATE_TO_INDEX_MAP = {\n",
    "    s: i for i, s in enumerate(STATE_SPACE)\n",
    "}\n",
    "\n",
    "Q = np.array([\n",
    "    [[0.2, 0.8],\n",
    "    [0.1, 0.9]],\n",
    "    [[0.4, 0.6],\n",
    "    [0.8, 0.2]]\n",
    "])\n",
    "\n",
    "X = [1, 1]\n",
    "for i in range(len(X)-1, N_SAMPLES):\n",
    "    # import pdb;pdb.set_trace()\n",
    "    current_s = X[i-1:i+1]\n",
    "    X.append(\n",
    "        np.random.choice(\n",
    "            a=STATE_SPACE,\n",
    "            p=Q[tuple(current_s)]\n",
    "        )\n",
    "    )"
   ]
  },
  {
   "cell_type": "code",
   "execution_count": 45,
   "id": "3ceeacd3-ceff-4a75-932c-2ef429e5ad5f",
   "metadata": {
    "tags": []
   },
   "outputs": [
    {
     "data": {
      "text/plain": [
       "(100001, [1, 1, 1, 0, 0, 1, 1, 1, 0, 1])"
      ]
     },
     "execution_count": 45,
     "metadata": {},
     "output_type": "execute_result"
    }
   ],
   "source": [
    "chain = VLMC(\n",
    "    vocabulary=STATE_SPACE,\n",
    "    max_order=5\n",
    ")\n",
    "sample=copy.deepcopy(X)\n",
    "len(sample), sample[:10]"
   ]
  },
  {
   "cell_type": "code",
   "execution_count": 46,
   "id": "dc0b683c-6858-4aec-94a2-a9ef77fecb1c",
   "metadata": {},
   "outputs": [
    {
     "name": "stdout",
     "output_type": "stream",
     "text": [
      "root\n",
      "├── 0\n",
      "│   ├── 00\n",
      "│   └── 10\n",
      "└── 1\n",
      "    ├── 01\n",
      "    └── 11\n",
      "\n"
     ]
    }
   ],
   "source": [
    "chain.fit(\n",
    "    X=sample,\n",
    "    method='bct',\n",
    "    njobs=10\n",
    ")\n",
    "chain.show_tree()"
   ]
  },
  {
   "cell_type": "code",
   "execution_count": 47,
   "id": "588d5a30-a279-46ee-8477-0fd53ae5a4d8",
   "metadata": {},
   "outputs": [
    {
     "data": {
      "text/plain": [
       "{'00': {'0': 0.2013933778639661, '1': 0.798606622136034},\n",
       " '10': {'0': 0.40349794985304255, '1': 0.5965383359338148},\n",
       " '01': {'0': 0.10003991436554302, '1': 0.899960085634457},\n",
       " '11': {'0': 0.8012598933936359, '1': 0.19880471652398643}}"
      ]
     },
     "execution_count": 47,
     "metadata": {},
     "output_type": "execute_result"
    }
   ],
   "source": [
    "leaves = chain.get_leaves()\n",
    "{n.word: n.transition_probabilities for n in leaves}"
   ]
  },
  {
   "cell_type": "code",
   "execution_count": 48,
   "id": "291fb1d6-a146-4377-9c8c-ed72493b7ba3",
   "metadata": {},
   "outputs": [
    {
     "data": {
      "text/plain": [
       "(array([0.2, 0.8]), array([0.4, 0.6]), array([0.1, 0.9]), array([0.8, 0.2]))"
      ]
     },
     "execution_count": 48,
     "metadata": {},
     "output_type": "execute_result"
    }
   ],
   "source": [
    "Q[0,0], Q[1,0], Q[0,1], Q[1, 1]"
   ]
  },
  {
   "cell_type": "markdown",
   "id": "a55549ef-c558-4606-ae33-b38bb673ce69",
   "metadata": {},
   "source": [
    "### 4th order complex tree"
   ]
  },
  {
   "cell_type": "code",
   "execution_count": 49,
   "id": "b4132a23-6025-40fc-821f-5c6f0a6a7a28",
   "metadata": {},
   "outputs": [],
   "source": [
    "def dirichlet_gen_fn():\n",
    "    is_valid=False\n",
    "    while not is_valid:\n",
    "        probs = np.random.dirichlet(\n",
    "            alpha = [0.5, 0.5, 0.5]\n",
    "        )\n",
    "        if max(probs)<0.8 and min(probs)>0.2:\n",
    "            is_valid=True\n",
    "    return probs"
   ]
  },
  {
   "cell_type": "code",
   "execution_count": 50,
   "id": "e48aaad6-d362-472d-8e43-2e42fa941407",
   "metadata": {},
   "outputs": [
    {
     "data": {
      "text/plain": [
       "{'0': array([0.40196488, 0.21255887, 0.38547624]),\n",
       " '11': array([0.23142233, 0.44272205, 0.32585562]),\n",
       " '21': array([0.5458652 , 0.21410676, 0.24002804]),\n",
       " '001': array([0.5151316 , 0.20480388, 0.28006452]),\n",
       " '101': array([0.35265962, 0.33593962, 0.31140076]),\n",
       " '0201': array([0.21022434, 0.55621249, 0.23356317]),\n",
       " '1201': array([0.46889058, 0.32945988, 0.20164953]),\n",
       " '2201': array([0.57022559, 0.21741853, 0.21235588]),\n",
       " '02': array([0.31454732, 0.44456083, 0.24089185]),\n",
       " '12': array([0.5269841 , 0.25366146, 0.21935443]),\n",
       " '022': array([0.30134123, 0.44976172, 0.24889705]),\n",
       " '122': array([0.21064779, 0.36020874, 0.42914347]),\n",
       " '222': array([0.3100604 , 0.21947724, 0.47046236])}"
      ]
     },
     "execution_count": 50,
     "metadata": {},
     "output_type": "execute_result"
    }
   ],
   "source": [
    "N_SAMPLES=1000000\n",
    "MAX_DEPTH = 4\n",
    "STATE_SPACE = [\n",
    "    0,\n",
    "    1,\n",
    "    2\n",
    "]\n",
    "\n",
    "contexts = [\n",
    "    '0',\n",
    "    '11',\n",
    "    '21',\n",
    "    '001',\n",
    "    '101',\n",
    "    '0201',\n",
    "    '1201',\n",
    "    '2201',\n",
    "    '02',\n",
    "    '12',\n",
    "    '022',\n",
    "    '122',\n",
    "    '222'\n",
    "]\n",
    "\n",
    "context_probs = {\n",
    "    c: dirichlet_gen_fn() for c in contexts\n",
    "}\n",
    "context_probs"
   ]
  },
  {
   "cell_type": "code",
   "execution_count": 51,
   "id": "387fb3c1-7915-4a87-b8c1-cf8bd01288d2",
   "metadata": {},
   "outputs": [],
   "source": [
    "def context_identification_fn(full_word, ctxts):\n",
    "    context_found = False\n",
    "    context=None\n",
    "    word = copy.deepcopy(full_word)\n",
    "    while not context_found:\n",
    "        if len(word)==0:\n",
    "            import pdb;pdb.set_trace()\n",
    "        if word in ctxts:\n",
    "            context=word\n",
    "            context_found=True\n",
    "        else:\n",
    "            word = word[1:]\n",
    "            \n",
    "            \n",
    "    return context"
   ]
  },
  {
   "cell_type": "code",
   "execution_count": 52,
   "id": "127af15e-a8e4-41d4-8b98-9196ca9a46e9",
   "metadata": {},
   "outputs": [],
   "source": [
    "sample = [0, 0, 1, 1]\n",
    "i=MAX_DEPTH\n",
    "while len(sample) < N_SAMPLES:\n",
    "    word = ''.join(\n",
    "        [str(x) for x in sample[i-MAX_DEPTH:i]]\n",
    "    )\n",
    "    ctxt = context_identification_fn(\n",
    "        full_word=word,\n",
    "        ctxts=contexts\n",
    "    )\n",
    "    new_state = np.random.choice(\n",
    "        a=STATE_SPACE,\n",
    "        p=context_probs[ctxt]\n",
    "    )\n",
    "    sample.append(new_state)\n",
    "    i+=1\n",
    "    "
   ]
  },
  {
   "cell_type": "code",
   "execution_count": 53,
   "id": "13549b97-1141-44f8-8614-f7cba90b79ac",
   "metadata": {
    "tags": []
   },
   "outputs": [
    {
     "data": {
      "text/plain": [
       "(1000000, [0, 0, 1, 1, 0, 2, 1, 0, 2, 0])"
      ]
     },
     "execution_count": 53,
     "metadata": {},
     "output_type": "execute_result"
    }
   ],
   "source": [
    "chain = VLMC(\n",
    "    vocabulary=STATE_SPACE,\n",
    "    max_order=5\n",
    ")\n",
    "len(sample), sample[:10]"
   ]
  },
  {
   "cell_type": "code",
   "execution_count": 54,
   "id": "0fad63e0-6b8d-403d-8328-a1113a52b3fa",
   "metadata": {},
   "outputs": [
    {
     "name": "stdout",
     "output_type": "stream",
     "text": [
      "root\n",
      "├── 0\n",
      "├── 1\n",
      "│   ├── 01\n",
      "│   │   ├── 001\n",
      "│   │   ├── 101\n",
      "│   │   └── 201\n",
      "│   │       ├── 0201\n",
      "│   │       ├── 1201\n",
      "│   │       └── 2201\n",
      "│   ├── 11\n",
      "│   └── 21\n",
      "└── 2\n",
      "    ├── 02\n",
      "    ├── 12\n",
      "    └── 22\n",
      "        ├── 022\n",
      "        ├── 122\n",
      "        └── 222\n",
      "\n"
     ]
    }
   ],
   "source": [
    "chain.fit(\n",
    "    X=sample,\n",
    "    method='bct',\n",
    "    njobs=10\n",
    ")\n",
    "chain.show_tree()"
   ]
  },
  {
   "cell_type": "code",
   "execution_count": 55,
   "id": "57721e03-ebcf-45ea-8136-683a684682cc",
   "metadata": {},
   "outputs": [
    {
     "data": {
      "text/plain": [
       "{'0': {'0': 0.4016368356890369,\n",
       "  '1': 0.21271212809042636,\n",
       "  '2': 0.38565613698616164},\n",
       " '001': {'0': 0.5113118098895824,\n",
       "  '1': 0.20772323571771484,\n",
       "  '2': 0.28099495919347095},\n",
       " '101': {'0': 0.3541465300599265,\n",
       "  '1': 0.3381016818093949,\n",
       "  '2': 0.30775178813067855},\n",
       " '0201': {'0': 0.21828789860175032,\n",
       "  '1': 0.5551755356603963,\n",
       "  '2': 0.22653656573785333},\n",
       " '1201': {'0': 0.47265884436572947,\n",
       "  '1': 0.3263227806065973,\n",
       "  '2': 0.20101837502767322},\n",
       " '2201': {'0': 0.5759312320916905,\n",
       "  '1': 0.21298949379178606,\n",
       "  '2': 0.2110792741165234},\n",
       " '11': {'0': 0.23235967990082682,\n",
       "  '1': 0.442914540604558,\n",
       "  '2': 0.32473684793075586},\n",
       " '21': {'0': 0.5461686738767015,\n",
       "  '1': 0.21392992391934768,\n",
       "  '2': 0.23990140220395073},\n",
       " '02': {'0': 0.31214495916410406,\n",
       "  '1': 0.4453394173858414,\n",
       "  '2': 0.24251562345005456},\n",
       " '12': {'0': 0.5292947988444656,\n",
       "  '1': 0.25281692782912096,\n",
       "  '2': 0.21788827332641347},\n",
       " '022': {'0': 0.29834751308900526,\n",
       "  '1': 0.4511343804537522,\n",
       "  '2': 0.2505181064572426},\n",
       " '122': {'0': 0.2093784078516903,\n",
       "  '1': 0.35309648166217067,\n",
       "  '2': 0.437525110486139},\n",
       " '222': {'0': 0.31046474865633894,\n",
       "  '1': 0.22099272842238382,\n",
       "  '2': 0.4685425229212773}}"
      ]
     },
     "execution_count": 55,
     "metadata": {},
     "output_type": "execute_result"
    }
   ],
   "source": [
    "leaves = chain.get_leaves()\n",
    "{n.word: n.transition_probabilities for n in leaves}"
   ]
  },
  {
   "cell_type": "code",
   "execution_count": 56,
   "id": "a491be43-fdff-4cd2-a994-6931950f584d",
   "metadata": {},
   "outputs": [
    {
     "data": {
      "text/plain": [
       "{'0': array([0.40196488, 0.21255887, 0.38547624]),\n",
       " '11': array([0.23142233, 0.44272205, 0.32585562]),\n",
       " '21': array([0.5458652 , 0.21410676, 0.24002804]),\n",
       " '001': array([0.5151316 , 0.20480388, 0.28006452]),\n",
       " '101': array([0.35265962, 0.33593962, 0.31140076]),\n",
       " '0201': array([0.21022434, 0.55621249, 0.23356317]),\n",
       " '1201': array([0.46889058, 0.32945988, 0.20164953]),\n",
       " '2201': array([0.57022559, 0.21741853, 0.21235588]),\n",
       " '02': array([0.31454732, 0.44456083, 0.24089185]),\n",
       " '12': array([0.5269841 , 0.25366146, 0.21935443]),\n",
       " '022': array([0.30134123, 0.44976172, 0.24889705]),\n",
       " '122': array([0.21064779, 0.36020874, 0.42914347]),\n",
       " '222': array([0.3100604 , 0.21947724, 0.47046236])}"
      ]
     },
     "execution_count": 56,
     "metadata": {},
     "output_type": "execute_result"
    }
   ],
   "source": [
    "context_probs"
   ]
  },
  {
   "cell_type": "code",
   "execution_count": null,
   "id": "4d2d87cd-a241-45cc-9328-c6cf66972882",
   "metadata": {},
   "outputs": [],
   "source": []
  }
 ],
 "metadata": {
  "kernelspec": {
   "display_name": "Python 3 (ipykernel)",
   "language": "python",
   "name": "python3"
  },
  "language_info": {
   "codemirror_mode": {
    "name": "ipython",
    "version": 3
   },
   "file_extension": ".py",
   "mimetype": "text/x-python",
   "name": "python",
   "nbconvert_exporter": "python",
   "pygments_lexer": "ipython3",
   "version": "3.8.10"
  }
 },
 "nbformat": 4,
 "nbformat_minor": 5
}
