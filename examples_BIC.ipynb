{
 "cells": [
  {
   "cell_type": "code",
   "execution_count": 1,
   "id": "ef3c43bf-713f-415a-8366-aa5c9462a383",
   "metadata": {},
   "outputs": [
    {
     "data": {
      "text/plain": [
       "['./OrderEst_ex3',\n",
       " './OrderEst_ex4',\n",
       " './examples.ipynb',\n",
       " './examples_BIC.ipynb',\n",
       " './OrderEst_ex2',\n",
       " './vlmc',\n",
       " './OrderEst_ex1']"
      ]
     },
     "execution_count": 1,
     "metadata": {},
     "output_type": "execute_result"
    }
   ],
   "source": [
    "import numpy as np\n",
    "from vlmc import VLMC, BICSolver\n",
    "\n",
    "import os\n",
    "import re\n",
    "import glob\n",
    "import copy\n",
    "glob.glob('./*')"
   ]
  },
  {
   "cell_type": "code",
   "execution_count": 2,
   "id": "06badc5c-bb9b-44ff-a815-04e17ceb41f0",
   "metadata": {},
   "outputs": [],
   "source": [
    "# Set random seed\n",
    "SEED=4007\n",
    "np.random.seed(SEED)\n",
    "\n",
    "# Number of parallel jobs for executions\n",
    "NJOBS=os.cpu_count()"
   ]
  },
  {
   "cell_type": "code",
   "execution_count": 3,
   "id": "3560955d-3bfa-4297-af6e-9fdca802e9b7",
   "metadata": {},
   "outputs": [],
   "source": [
    "def parse_txt_input(input_path):\n",
    "    \"\"\"\n",
    "        Função para ler e decodificar arquivos txt. Lê-se o arquivo e analisa-se cada linha\n",
    "        para obter o respectivo valor do estado. Retorna-se um array com a sequência de estados observados (observed_sequence).\n",
    "    \"\"\"\n",
    "\n",
    "    observed_sequence = []\n",
    "    with open(\n",
    "        input_path,\n",
    "        mode='r',\n",
    "        encoding='utf-8'\n",
    "    ) as f:\n",
    "        lines = f.readlines()\n",
    "        # Use regular expression to obtain sequence from input\n",
    "        observed_sequence = [\n",
    "            int(i) for i in re.search('[0-9]{1000,100000}', lines[-1]).group(0)\n",
    "        ]\n",
    "        \n",
    "    return observed_sequence"
   ]
  },
  {
   "cell_type": "markdown",
   "id": "4342bbfe-8eae-41d0-9121-079d89816d69",
   "metadata": {},
   "source": [
    "# BIC"
   ]
  },
  {
   "cell_type": "markdown",
   "id": "54eb248e-5b09-46fe-902a-6483b78905e7",
   "metadata": {},
   "source": [
    "### 1st Order sample"
   ]
  },
  {
   "cell_type": "code",
   "execution_count": 4,
   "id": "77039794-e708-471c-8753-3624245c8e14",
   "metadata": {},
   "outputs": [
    {
     "name": "stdout",
     "output_type": "stream",
     "text": [
      "----------------------------------------------------------------------------------------------------\n",
      "Length of generated sample: 10000\n",
      "First 10 symbols of generated sample: [1, 1, 0, 1, 1, 1, 1, 1, 0, 1]\n",
      "----------------------------------------------------------------------------------------------------\n"
     ]
    }
   ],
   "source": [
    "###################\n",
    "# GENERATE SAMPLE #\n",
    "###################\n",
    "\n",
    "# Length of generated sample\n",
    "N_SAMPLES = 10000\n",
    "\n",
    "# Declare state space and mapping from state number to zero-indexed position in transition matrix\n",
    "STATE_SPACE = [\n",
    "    0,\n",
    "    1\n",
    "]\n",
    "STATE_TO_INDEX_MAP = {\n",
    "    s: i for i, s in enumerate(STATE_SPACE)\n",
    "}\n",
    "\n",
    "# Transition probabilities\n",
    "Q = np.array([\n",
    "    [0.2, 0.8],\n",
    "    [0.5, 0.5]\n",
    "])\n",
    "\n",
    "# Initial state\n",
    "X = [1, 1]\n",
    "\n",
    "# \n",
    "for i in range(len(X)-1, N_SAMPLES-1):\n",
    "    current_s = X[i]\n",
    "    X.append(\n",
    "        np.random.choice(\n",
    "            a=STATE_SPACE,\n",
    "            p=Q[current_s,:]\n",
    "        )\n",
    "    )\n",
    "    \n",
    "print('-'*100)\n",
    "print('Length of generated sample: {}'.format(len(X)))\n",
    "print('First 10 symbols of generated sample: {}'.format(X[:10]))\n",
    "print('-'*100)"
   ]
  },
  {
   "cell_type": "code",
   "execution_count": 5,
   "id": "e1cd1c41-5cbe-4b64-87b7-fd2ddb4d1d39",
   "metadata": {
    "tags": []
   },
   "outputs": [
    {
     "name": "stdout",
     "output_type": "stream",
     "text": [
      "CPU times: user 150 ms, sys: 67.7 ms, total: 218 ms\n",
      "Wall time: 463 ms\n"
     ]
    }
   ],
   "source": [
    "%%time\n",
    "# Instantiate VLMC object\n",
    "chain = VLMC(\n",
    "    vocabulary=STATE_SPACE,\n",
    "    max_order=8\n",
    ")\n",
    "\n",
    "# Fit chain to sample using BIC\n",
    "chain.fit(\n",
    "    X=X,\n",
    "    method='bic',\n",
    "    njobs=NJOBS\n",
    ")"
   ]
  },
  {
   "cell_type": "code",
   "execution_count": 6,
   "id": "40a528b4-a21f-441e-90cb-4ed4a36ab9ed",
   "metadata": {},
   "outputs": [
    {
     "name": "stdout",
     "output_type": "stream",
     "text": [
      "root\n",
      "├── 0\n",
      "└── 1\n",
      "\n"
     ]
    }
   ],
   "source": [
    "# Get diagram of estimated tree\n",
    "chain.show_tree()"
   ]
  },
  {
   "cell_type": "code",
   "execution_count": 7,
   "id": "61842dd9-dd47-404a-8028-1ecb48c07023",
   "metadata": {},
   "outputs": [
    {
     "data": {
      "text/plain": [
       "{'0': {'0': 0.19979161239906226, '1': 0.8004688721021099},\n",
       " '1': {'0': 0.49943117178612056, '1': 0.5015439622948156}}"
      ]
     },
     "execution_count": 7,
     "metadata": {},
     "output_type": "execute_result"
    }
   ],
   "source": [
    "# Transition probabilities for leaves\n",
    "leaves = chain.get_leaves()\n",
    "{n.word: n.transition_probabilities for n in leaves}"
   ]
  },
  {
   "cell_type": "code",
   "execution_count": 8,
   "id": "1734ece6-0929-46d5-9653-764ab8d329e3",
   "metadata": {},
   "outputs": [
    {
     "data": {
      "text/plain": [
       "(array([0.2, 0.8]), array([0.5, 0.5]))"
      ]
     },
     "execution_count": 8,
     "metadata": {},
     "output_type": "execute_result"
    }
   ],
   "source": [
    "# Ground truth for leaves probabilities\n",
    "Q[0], Q[1]"
   ]
  },
  {
   "cell_type": "markdown",
   "id": "1b4e5a20-5ad6-4e92-b69f-98b074ade6a9",
   "metadata": {},
   "source": [
    "### 2nd Order sample"
   ]
  },
  {
   "cell_type": "code",
   "execution_count": 9,
   "id": "c49c6c8b-7fb1-4fb5-b3b7-63d8d893a76b",
   "metadata": {},
   "outputs": [
    {
     "name": "stdout",
     "output_type": "stream",
     "text": [
      "----------------------------------------------------------------------------------------------------\n",
      "Length of generated sample: 10000\n",
      "First 10 symbols of generated sample: [1, 1, 0, 1, 1, 0, 1, 1, 1, 0]\n",
      "----------------------------------------------------------------------------------------------------\n"
     ]
    }
   ],
   "source": [
    "###################\n",
    "# GENERATE SAMPLE #\n",
    "###################\n",
    "\n",
    "# Length of generated sample\n",
    "N_SAMPLES = 10000\n",
    "\n",
    "# Declare state space and mapping from state number to zero-indexed position in transition matrix\n",
    "STATE_SPACE = [\n",
    "    0,\n",
    "    1\n",
    "]\n",
    "STATE_TO_INDEX_MAP = {\n",
    "    s: i for i, s in enumerate(STATE_SPACE)\n",
    "}\n",
    "\n",
    "Q = np.array([\n",
    "    [[0.2, 0.8],\n",
    "    [0.1, 0.9]],\n",
    "    [[0.4, 0.6],\n",
    "    [0.8, 0.2]]\n",
    "])\n",
    "\n",
    "X = [1, 1]\n",
    "for i in range(len(X)-1, N_SAMPLES-1):\n",
    "    current_s = X[i-1:i+1]\n",
    "    X.append(\n",
    "        np.random.choice(\n",
    "            a=STATE_SPACE,\n",
    "            p=Q[tuple(current_s)]\n",
    "        )\n",
    "    )\n",
    "\n",
    "print('-'*100)\n",
    "print('Length of generated sample: {}'.format(len(X)))\n",
    "print('First 10 symbols of generated sample: {}'.format(X[:10]))\n",
    "print('-'*100)"
   ]
  },
  {
   "cell_type": "code",
   "execution_count": 10,
   "id": "b178df9f-36a5-499b-b352-64f03bbdc721",
   "metadata": {
    "tags": []
   },
   "outputs": [
    {
     "name": "stdout",
     "output_type": "stream",
     "text": [
      "CPU times: user 132 ms, sys: 62.2 ms, total: 194 ms\n",
      "Wall time: 440 ms\n"
     ]
    }
   ],
   "source": [
    "%%time\n",
    "# Instantiate VLMC object\n",
    "chain = VLMC(\n",
    "    vocabulary=STATE_SPACE,\n",
    "    max_order=8\n",
    ")\n",
    "\n",
    "# Fit chain to sample using BIC\n",
    "chain.fit(\n",
    "    X=X,\n",
    "    method='bic',\n",
    "    njobs=NJOBS\n",
    ")"
   ]
  },
  {
   "cell_type": "code",
   "execution_count": 11,
   "id": "b73836dd-47ba-4107-a0e3-ea1297536092",
   "metadata": {},
   "outputs": [
    {
     "name": "stdout",
     "output_type": "stream",
     "text": [
      "root\n",
      "├── 0\n",
      "│   ├── 00\n",
      "│   └── 10\n",
      "└── 1\n",
      "    ├── 01\n",
      "    └── 11\n",
      "\n"
     ]
    }
   ],
   "source": [
    "# Get diagram of estimated tree\n",
    "chain.show_tree()"
   ]
  },
  {
   "cell_type": "code",
   "execution_count": 12,
   "id": "9585d325-8f01-4f5f-b3d4-8d2725b8a56d",
   "metadata": {},
   "outputs": [
    {
     "data": {
      "text/plain": [
       "{'00': {'0': 0.1836734693877551, '1': 0.8163265306122449},\n",
       " '10': {'0': 0.3901734104046243, '1': 0.6105491329479769},\n",
       " '01': {'0': 0.09104046242774566, '1': 0.9096820809248555},\n",
       " '11': {'0': 0.8040217044366422, '1': 0.1966166613469518}}"
      ]
     },
     "execution_count": 12,
     "metadata": {},
     "output_type": "execute_result"
    }
   ],
   "source": [
    "# Transition probabilities for leaves\n",
    "leaves = chain.get_leaves()\n",
    "{n.word: n.transition_probabilities for n in leaves}"
   ]
  },
  {
   "cell_type": "code",
   "execution_count": 13,
   "id": "e5af80ba-253a-409b-beed-1a13be6b0b83",
   "metadata": {},
   "outputs": [
    {
     "data": {
      "text/plain": [
       "(array([0.2, 0.8]), array([0.4, 0.6]), array([0.1, 0.9]), array([0.8, 0.2]))"
      ]
     },
     "execution_count": 13,
     "metadata": {},
     "output_type": "execute_result"
    }
   ],
   "source": [
    "# Ground truth for transition probabilities\n",
    "Q[0,0], Q[1,0], Q[0,1], Q[1, 1]"
   ]
  },
  {
   "cell_type": "markdown",
   "id": "df5d7a30-00b9-4ebc-ad75-32b59cc33e3d",
   "metadata": {},
   "source": [
    "### 4th order complex tree"
   ]
  },
  {
   "cell_type": "code",
   "execution_count": 14,
   "id": "a641673c-9f15-4d2a-87b9-9b1876769979",
   "metadata": {},
   "outputs": [],
   "source": [
    "def dirichlet_gen_fn(vocabulary_size):\n",
    "    \"\"\"\n",
    "        This function generates a probability distribution according to an even\n",
    "        dirichlet. Extreme values for probabilities are avoided.\n",
    "    \"\"\"\n",
    "    is_valid=False\n",
    "    while not is_valid:\n",
    "        # Generate sample\n",
    "        probs = np.random.dirichlet(\n",
    "            alpha = [0.5]*vocabulary_size\n",
    "        )\n",
    "        # Check if sample contains extreme probability values\n",
    "        if max(probs)<0.8 and min(probs)>0.2:\n",
    "            is_valid=True\n",
    "            \n",
    "    return probs"
   ]
  },
  {
   "cell_type": "code",
   "execution_count": 15,
   "id": "b32fdb03-acf2-4b4f-b417-5828b3d2dd71",
   "metadata": {},
   "outputs": [
    {
     "data": {
      "text/plain": [
       "{'0': array([0.41951535, 0.25155903, 0.32892562]),\n",
       " '11': array([0.36489771, 0.34320296, 0.29189932]),\n",
       " '21': array([0.4564581 , 0.24024402, 0.30329788]),\n",
       " '001': array([0.21422521, 0.35177914, 0.43399565]),\n",
       " '101': array([0.20889002, 0.45086866, 0.34024133]),\n",
       " '0201': array([0.20557789, 0.33670726, 0.45771484]),\n",
       " '1201': array([0.21845778, 0.46842033, 0.31312189]),\n",
       " '2201': array([0.52577593, 0.27250313, 0.20172094]),\n",
       " '02': array([0.27607134, 0.47306216, 0.2508665 ]),\n",
       " '12': array([0.2266841 , 0.49953721, 0.27377869]),\n",
       " '022': array([0.26165118, 0.37433456, 0.36401426]),\n",
       " '122': array([0.205716  , 0.20313505, 0.59114895]),\n",
       " '222': array([0.37803698, 0.37250095, 0.24946207])}"
      ]
     },
     "execution_count": 15,
     "metadata": {},
     "output_type": "execute_result"
    }
   ],
   "source": [
    "###################\n",
    "# GENERATE SAMPLE #\n",
    "###################\n",
    "\n",
    "# Length of generated sample\n",
    "N_SAMPLES=100000\n",
    "MAX_DEPTH = 4\n",
    "STATE_SPACE = [\n",
    "    0,\n",
    "    1,\n",
    "    2\n",
    "]\n",
    "\n",
    "# Contexts in tree\n",
    "contexts = [\n",
    "    '0',\n",
    "    '11',\n",
    "    '21',\n",
    "    '001',\n",
    "    '101',\n",
    "    '0201',\n",
    "    '1201',\n",
    "    '2201',\n",
    "    '02',\n",
    "    '12',\n",
    "    '022',\n",
    "    '122',\n",
    "    '222'\n",
    "]\n",
    "\n",
    "# Obtain random transition probabilities for contexts\n",
    "context_probs = {\n",
    "    c: dirichlet_gen_fn(\n",
    "        vocabulary_size=len(STATE_SPACE)\n",
    "    ) for c in contexts\n",
    "}\n",
    "\n",
    "context_probs"
   ]
  },
  {
   "cell_type": "code",
   "execution_count": 16,
   "id": "c11dfd83-93e9-4bde-8b6d-0fef2abe3138",
   "metadata": {},
   "outputs": [],
   "source": [
    "def context_identification_fn(full_word, ctxts):\n",
    "    \"\"\"\n",
    "        This function finds the context of full_word. Initially, full_word will always have\n",
    "        length equal to the maximum depth of theoretical tree. Context matching is performed\n",
    "        by iteratively reducing size of analyzed past in full_word as to eventually match a\n",
    "        a context in ctxts.\n",
    "    \"\"\"\n",
    "    context_found = False\n",
    "    context=None\n",
    "    word = copy.deepcopy(full_word)\n",
    "    # Reduce size of analyzed past in word iteratively\n",
    "    # until a context is matched\n",
    "    while not context_found:\n",
    "        if len(word)==0:\n",
    "            import pdb; pdb.set_trace()\n",
    "        # Check if word is context\n",
    "        if word in ctxts:\n",
    "            context=word\n",
    "            context_found=True\n",
    "        # If not, analyze one less step into the past\n",
    "        else:\n",
    "            word = word[1:]\n",
    "            \n",
    "            \n",
    "    return context"
   ]
  },
  {
   "cell_type": "code",
   "execution_count": 17,
   "id": "608a1ec6-4221-4667-8a19-a0e045ae8923",
   "metadata": {},
   "outputs": [
    {
     "name": "stdout",
     "output_type": "stream",
     "text": [
      "----------------------------------------------------------------------------------------------------\n",
      "Length of generated sample: 100000\n",
      "First 10 symbols of generated sample: [0, 0, 1, 1, 1, 0, 2, 2, 1, 1]\n",
      "----------------------------------------------------------------------------------------------------\n"
     ]
    }
   ],
   "source": [
    "X = [0, 0, 1, 1]\n",
    "i=MAX_DEPTH\n",
    "# Iteratively window X to generate next context\n",
    "while len(X) < N_SAMPLES:\n",
    "    # Get window of length MAX_DEPTH\n",
    "    word = ''.join(\n",
    "        [str(x) for x in X[i-MAX_DEPTH:i]]\n",
    "    )\n",
    "    # Associate word to context\n",
    "    ctxt = context_identification_fn(\n",
    "        full_word=word,\n",
    "        ctxts=contexts\n",
    "    )\n",
    "    # Sample from transition distribution to obtain\n",
    "    # next symbol in sample\n",
    "    new_state = np.random.choice(\n",
    "        a=STATE_SPACE,\n",
    "        p=context_probs[ctxt]\n",
    "    )\n",
    "    \n",
    "    # Save and update\n",
    "    X.append(new_state)\n",
    "    i+=1\n",
    "\n",
    "print('-'*100)\n",
    "print('Length of generated sample: {}'.format(len(X)))\n",
    "print('First 10 symbols of generated sample: {}'.format(X[:10]))\n",
    "print('-'*100)"
   ]
  },
  {
   "cell_type": "code",
   "execution_count": 18,
   "id": "8be24c16-55d3-495a-b0d9-39713ffbb83e",
   "metadata": {
    "tags": []
   },
   "outputs": [
    {
     "name": "stdout",
     "output_type": "stream",
     "text": [
      "CPU times: user 1.35 s, sys: 191 ms, total: 1.54 s\n",
      "Wall time: 1min 45s\n"
     ]
    }
   ],
   "source": [
    "%%time\n",
    "# Instantiate VLMC object\n",
    "chain = VLMC(\n",
    "    vocabulary=STATE_SPACE,\n",
    "    max_order=8\n",
    ")\n",
    "\n",
    "# Fit chain to sample using BIC\n",
    "chain.fit(\n",
    "    X=X,\n",
    "    method='bic',\n",
    "    njobs=NJOBS\n",
    ")"
   ]
  },
  {
   "cell_type": "code",
   "execution_count": 19,
   "id": "505bbf33-ab2a-4b00-a6cf-d22d7472b7d3",
   "metadata": {},
   "outputs": [
    {
     "name": "stdout",
     "output_type": "stream",
     "text": [
      "root\n",
      "├── 0\n",
      "├── 1\n",
      "│   ├── 01\n",
      "│   │   ├── 001\n",
      "│   │   ├── 101\n",
      "│   │   └── 201\n",
      "│   │       ├── 0201\n",
      "│   │       ├── 1201\n",
      "│   │       └── 2201\n",
      "│   ├── 11\n",
      "│   └── 21\n",
      "└── 2\n",
      "    ├── 02\n",
      "    ├── 12\n",
      "    └── 22\n",
      "        ├── 022\n",
      "        ├── 122\n",
      "        └── 222\n",
      "\n"
     ]
    }
   ],
   "source": [
    "# Get diagram of estimated tree\n",
    "chain.show_tree()"
   ]
  },
  {
   "cell_type": "code",
   "execution_count": 20,
   "id": "45267010-cf7e-48b0-8051-27a9bb1c60c5",
   "metadata": {},
   "outputs": [
    {
     "data": {
      "text/plain": [
       "{'0': {'0': 0.42177961572003264,\n",
       "  '1': 0.2509353813261316,\n",
       "  '2': 0.32736939826145667},\n",
       " '001': {'0': 0.2046875, '1': 0.34817708333333336, '2': 0.4473958333333333},\n",
       " '101': {'0': 0.20548862115127176,\n",
       "  '1': 0.4605087014725569,\n",
       "  '2': 0.33400267737617134},\n",
       " '0201': {'0': 0.19469026548672566,\n",
       "  '1': 0.3223767383059418,\n",
       "  '2': 0.4829329962073325},\n",
       " '1201': {'0': 0.22631578947368422,\n",
       "  '1': 0.45964912280701753,\n",
       "  '2': 0.3140350877192982},\n",
       " '2201': {'0': 0.5041095890410959, '1': 0.2958904109589041, '2': 0.2},\n",
       " '11': {'0': 0.36828694629557035,\n",
       "  '1': 0.33918071344570755,\n",
       "  '2': 0.29272834182673463},\n",
       " '21': {'0': 0.46384750219106047,\n",
       "  '1': 0.24094361671048786,\n",
       "  '2': 0.29520888109845167},\n",
       " '02': {'0': 0.2811962873839807,\n",
       "  '1': 0.4725850807837745,\n",
       "  '2': 0.24630457201787556},\n",
       " '12': {'0': 0.22407194795254498,\n",
       "  '1': 0.49464217374665137,\n",
       "  '2': 0.28128587830080365},\n",
       " '022': {'0': 0.2655268667131891,\n",
       "  '1': 0.374738311235171,\n",
       "  '2': 0.3597348220516399},\n",
       " '122': {'0': 0.18435374149659864,\n",
       "  '1': 0.20782312925170068,\n",
       "  '2': 0.6078231292517007},\n",
       " '222': {'0': 0.3961456102783726,\n",
       "  '1': 0.35813704496788007,\n",
       "  '2': 0.24571734475374732}}"
      ]
     },
     "execution_count": 20,
     "metadata": {},
     "output_type": "execute_result"
    }
   ],
   "source": [
    "# Transition probabilities for leaves\n",
    "leaves = chain.get_leaves()\n",
    "{n.word: n.transition_probabilities for n in leaves}"
   ]
  },
  {
   "cell_type": "code",
   "execution_count": 21,
   "id": "b22a7c61-abb7-402a-ae3b-9b7cae6bfe4b",
   "metadata": {},
   "outputs": [
    {
     "data": {
      "text/plain": [
       "{'0': array([0.41951535, 0.25155903, 0.32892562]),\n",
       " '11': array([0.36489771, 0.34320296, 0.29189932]),\n",
       " '21': array([0.4564581 , 0.24024402, 0.30329788]),\n",
       " '001': array([0.21422521, 0.35177914, 0.43399565]),\n",
       " '101': array([0.20889002, 0.45086866, 0.34024133]),\n",
       " '0201': array([0.20557789, 0.33670726, 0.45771484]),\n",
       " '1201': array([0.21845778, 0.46842033, 0.31312189]),\n",
       " '2201': array([0.52577593, 0.27250313, 0.20172094]),\n",
       " '02': array([0.27607134, 0.47306216, 0.2508665 ]),\n",
       " '12': array([0.2266841 , 0.49953721, 0.27377869]),\n",
       " '022': array([0.26165118, 0.37433456, 0.36401426]),\n",
       " '122': array([0.205716  , 0.20313505, 0.59114895]),\n",
       " '222': array([0.37803698, 0.37250095, 0.24946207])}"
      ]
     },
     "execution_count": 21,
     "metadata": {},
     "output_type": "execute_result"
    }
   ],
   "source": [
    "# Ground truth for transition probabilities\n",
    "context_probs"
   ]
  },
  {
   "cell_type": "code",
   "execution_count": null,
   "id": "2d16b53f-3bcb-4dac-ac20-dc35999171e4",
   "metadata": {},
   "outputs": [],
   "source": []
  }
 ],
 "metadata": {
  "kernelspec": {
   "display_name": "Python 3 (ipykernel)",
   "language": "python",
   "name": "python3"
  },
  "language_info": {
   "codemirror_mode": {
    "name": "ipython",
    "version": 3
   },
   "file_extension": ".py",
   "mimetype": "text/x-python",
   "name": "python",
   "nbconvert_exporter": "python",
   "pygments_lexer": "ipython3",
   "version": "3.8.10"
  }
 },
 "nbformat": 4,
 "nbformat_minor": 5
}
