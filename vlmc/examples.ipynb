{
 "cells": [
  {
   "cell_type": "code",
   "execution_count": 1,
   "id": "ef3c43bf-713f-415a-8366-aa5c9462a383",
   "metadata": {},
   "outputs": [
    {
     "data": {
      "text/plain": [
       "['./OrderEst_ex3',\n",
       " './OrderEst_ex4',\n",
       " './examples.ipynb',\n",
       " './OrderEst_ex2',\n",
       " './vlmc',\n",
       " './OrderEst_ex1']"
      ]
     },
     "execution_count": 1,
     "metadata": {},
     "output_type": "execute_result"
    }
   ],
   "source": [
    "import numpy as np\n",
    "\n",
    "from vlmc import VLMC, BICSolver, ContextAlgorithmSolver\n",
    "from vlmc.utils import count_word_ocurrences\n",
    "\n",
    "import re\n",
    "import glob\n",
    "import copy\n",
    "glob.glob('./*')"
   ]
  },
  {
   "cell_type": "code",
   "execution_count": 2,
   "id": "3560955d-3bfa-4297-af6e-9fdca802e9b7",
   "metadata": {},
   "outputs": [],
   "source": [
    "def parse_txt_input(input_path):\n",
    "    \"\"\"\n",
    "        Função para ler e decodificar arquivos txt. Lê-se o arquivo e analisa-se cada linha\n",
    "        para obter o respectivo valor do estado. Retorna-se um array com a sequência de estados observados (observed_sequence).\n",
    "    \"\"\"\n",
    "\n",
    "    observed_sequence = []\n",
    "    with open(\n",
    "        input_path,\n",
    "        mode='r',\n",
    "        encoding='utf-8'\n",
    "    ) as f:\n",
    "        lines = f.readlines()\n",
    "        # Use regular expression to obtain sequence from input\n",
    "        observed_sequence = [\n",
    "            int(i) for i in re.search('[0-9]{1000,100000}', lines[-1]).group(0)\n",
    "        ]\n",
    "        \n",
    "    return observed_sequence"
   ]
  },
  {
   "cell_type": "markdown",
   "id": "4342bbfe-8eae-41d0-9121-079d89816d69",
   "metadata": {},
   "source": [
    "# BIC"
   ]
  },
  {
   "cell_type": "markdown",
   "id": "54eb248e-5b09-46fe-902a-6483b78905e7",
   "metadata": {},
   "source": [
    "### 1st Order sample"
   ]
  },
  {
   "cell_type": "code",
   "execution_count": 3,
   "id": "77039794-e708-471c-8753-3624245c8e14",
   "metadata": {},
   "outputs": [],
   "source": [
    "N_SAMPLES = 100000\n",
    "\n",
    "# Declare state space and mapping from state number to zero-indexed position in transition matrix\n",
    "STATE_SPACE = [\n",
    "    0,\n",
    "    1\n",
    "]\n",
    "STATE_TO_INDEX_MAP = {\n",
    "    s: i for i, s in enumerate(STATE_SPACE)\n",
    "}\n",
    "\n",
    "Q = np.array([\n",
    "    [0.2, 0.8],\n",
    "    [0.5, 0.5]\n",
    "])\n",
    "\n",
    "X = [1, 1]\n",
    "for i in range(len(X)-1, N_SAMPLES):\n",
    "    current_s = X[i]\n",
    "    X.append(\n",
    "        np.random.choice(\n",
    "            a=STATE_SPACE,\n",
    "            p=Q[current_s,:]\n",
    "        )\n",
    "    )"
   ]
  },
  {
   "cell_type": "code",
   "execution_count": 4,
   "id": "e1cd1c41-5cbe-4b64-87b7-fd2ddb4d1d39",
   "metadata": {
    "tags": []
   },
   "outputs": [
    {
     "data": {
      "text/plain": [
       "(100001, [1, 1, 1, 1, 1, 0, 0, 1, 0, 0])"
      ]
     },
     "execution_count": 4,
     "metadata": {},
     "output_type": "execute_result"
    }
   ],
   "source": [
    "chain = VLMC(\n",
    "    vocabulary=STATE_SPACE,\n",
    "    max_order=5\n",
    ")\n",
    "sample=copy.deepcopy(X)\n",
    "len(sample), sample[:10]"
   ]
  },
  {
   "cell_type": "code",
   "execution_count": 5,
   "id": "40a528b4-a21f-441e-90cb-4ed4a36ab9ed",
   "metadata": {},
   "outputs": [
    {
     "name": "stdout",
     "output_type": "stream",
     "text": [
      "root\n",
      "├── 0\n",
      "└── 1\n",
      "\n"
     ]
    }
   ],
   "source": [
    "chain.fit(\n",
    "    X=sample,\n",
    "    method='bic',\n",
    "    njobs=1\n",
    ")\n",
    "chain.show_tree().show()"
   ]
  },
  {
   "cell_type": "code",
   "execution_count": 6,
   "id": "61842dd9-dd47-404a-8028-1ecb48c07023",
   "metadata": {},
   "outputs": [
    {
     "data": {
      "text/plain": [
       "{'0': {'0': 0.19758515704285826, '1': 0.8024148429571417},\n",
       " '1': {'0': 0.5008689720142284, '1': 0.4991959978559943}}"
      ]
     },
     "execution_count": 6,
     "metadata": {},
     "output_type": "execute_result"
    }
   ],
   "source": [
    "leaves = chain.get_leaves()\n",
    "{n.word: n.transition_probabilities for n in leaves}"
   ]
  },
  {
   "cell_type": "code",
   "execution_count": 7,
   "id": "1734ece6-0929-46d5-9653-764ab8d329e3",
   "metadata": {},
   "outputs": [
    {
     "data": {
      "text/plain": [
       "(array([0.2, 0.8]), array([0.5, 0.5]))"
      ]
     },
     "execution_count": 7,
     "metadata": {},
     "output_type": "execute_result"
    }
   ],
   "source": [
    "Q[0], Q[1]"
   ]
  },
  {
   "cell_type": "markdown",
   "id": "1b4e5a20-5ad6-4e92-b69f-98b074ade6a9",
   "metadata": {},
   "source": [
    "### 2nd Order sample"
   ]
  },
  {
   "cell_type": "code",
   "execution_count": 8,
   "id": "c49c6c8b-7fb1-4fb5-b3b7-63d8d893a76b",
   "metadata": {},
   "outputs": [],
   "source": [
    "N_SAMPLES = 100000\n",
    "\n",
    "# Declare state space and mapping from state number to zero-indexed position in transition matrix\n",
    "STATE_SPACE = [\n",
    "    0,\n",
    "    1\n",
    "]\n",
    "STATE_TO_INDEX_MAP = {\n",
    "    s: i for i, s in enumerate(STATE_SPACE)\n",
    "}\n",
    "\n",
    "Q = np.array([\n",
    "    [[0.2, 0.8],\n",
    "    [0.1, 0.9]],\n",
    "    [[0.4, 0.6],\n",
    "    [0.8, 0.2]]\n",
    "])\n",
    "\n",
    "X = [1, 1]\n",
    "for i in range(len(X)-1, N_SAMPLES):\n",
    "    # import pdb;pdb.set_trace()\n",
    "    current_s = X[i-1:i+1]\n",
    "    X.append(\n",
    "        np.random.choice(\n",
    "            a=STATE_SPACE,\n",
    "            p=Q[tuple(current_s)]\n",
    "        )\n",
    "    )"
   ]
  },
  {
   "cell_type": "code",
   "execution_count": 9,
   "id": "c8f0bcfc-f1ba-4bca-aa89-aa0a3e5ee45f",
   "metadata": {
    "tags": []
   },
   "outputs": [
    {
     "data": {
      "text/plain": [
       "(100001, [1, 1, 0, 1, 1, 0, 1, 1, 0, 1])"
      ]
     },
     "execution_count": 9,
     "metadata": {},
     "output_type": "execute_result"
    }
   ],
   "source": [
    "chain = VLMC(\n",
    "    vocabulary=STATE_SPACE,\n",
    "    max_order=5\n",
    ")\n",
    "sample=copy.deepcopy(X)\n",
    "len(sample), sample[:10]"
   ]
  },
  {
   "cell_type": "code",
   "execution_count": 10,
   "id": "7b238ada-15ce-43f6-9b74-993cdd07d814",
   "metadata": {},
   "outputs": [
    {
     "name": "stdout",
     "output_type": "stream",
     "text": [
      "root\n",
      "├── 0\n",
      "│   ├── 00\n",
      "│   └── 10\n",
      "└── 1\n",
      "    ├── 01\n",
      "    └── 11\n",
      "\n"
     ]
    }
   ],
   "source": [
    "chain.fit(\n",
    "    X=sample,\n",
    "    method='bic',\n",
    "    njobs=10\n",
    ")\n",
    "chain.show_tree().show()"
   ]
  },
  {
   "cell_type": "code",
   "execution_count": 11,
   "id": "c1db3bef-a338-4731-aa7d-e9248a7f56c9",
   "metadata": {},
   "outputs": [
    {
     "data": {
      "text/plain": [
       "{'00': {'0': 0.2031024531024531, '1': 0.7968975468975469},\n",
       " '10': {'0': 0.4009947720011618, '1': 0.5990415335463258},\n",
       " '01': {'0': 0.09835172814406042, '1': 0.9016845774034272},\n",
       " '11': {'0': 0.7999227003349653, '1': 0.20010950785879927}}"
      ]
     },
     "execution_count": 11,
     "metadata": {},
     "output_type": "execute_result"
    }
   ],
   "source": [
    "leaves = chain.get_leaves()\n",
    "{n.word: n.transition_probabilities for n in leaves}"
   ]
  },
  {
   "cell_type": "code",
   "execution_count": 12,
   "id": "e5af80ba-253a-409b-beed-1a13be6b0b83",
   "metadata": {},
   "outputs": [
    {
     "data": {
      "text/plain": [
       "(array([0.2, 0.8]), array([0.4, 0.6]), array([0.1, 0.9]), array([0.8, 0.2]))"
      ]
     },
     "execution_count": 12,
     "metadata": {},
     "output_type": "execute_result"
    }
   ],
   "source": [
    "Q[0,0], Q[1,0], Q[0,1], Q[1, 1]"
   ]
  },
  {
   "cell_type": "markdown",
   "id": "df5d7a30-00b9-4ebc-ad75-32b59cc33e3d",
   "metadata": {},
   "source": [
    "### 4th order complex tree"
   ]
  },
  {
   "cell_type": "code",
   "execution_count": 13,
   "id": "a641673c-9f15-4d2a-87b9-9b1876769979",
   "metadata": {},
   "outputs": [],
   "source": [
    "def dirichlet_gen_fn():\n",
    "    is_valid=False\n",
    "    while not is_valid:\n",
    "        probs = np.random.dirichlet(\n",
    "            alpha = [0.5, 0.5, 0.5]\n",
    "        )\n",
    "        if max(probs)<0.8 and min(probs)>0.2:\n",
    "            is_valid=True\n",
    "    return probs"
   ]
  },
  {
   "cell_type": "code",
   "execution_count": 14,
   "id": "b32fdb03-acf2-4b4f-b417-5828b3d2dd71",
   "metadata": {},
   "outputs": [
    {
     "data": {
      "text/plain": [
       "{'0': array([0.55407684, 0.24465266, 0.2012705 ]),\n",
       " '11': array([0.30001177, 0.23839307, 0.46159516]),\n",
       " '21': array([0.4900239 , 0.21367809, 0.29629801]),\n",
       " '001': array([0.36018688, 0.34436199, 0.29545113]),\n",
       " '101': array([0.34143145, 0.30443438, 0.35413417]),\n",
       " '0201': array([0.20187306, 0.28412786, 0.51399908]),\n",
       " '1201': array([0.27580266, 0.28451471, 0.43968263]),\n",
       " '2201': array([0.21080697, 0.32627197, 0.46292106]),\n",
       " '02': array([0.49719438, 0.23394048, 0.26886514]),\n",
       " '12': array([0.33337722, 0.3309611 , 0.33566169]),\n",
       " '022': array([0.27054195, 0.3783884 , 0.35106966]),\n",
       " '122': array([0.51398286, 0.24911844, 0.23689871]),\n",
       " '222': array([0.32818303, 0.26778335, 0.40403362])}"
      ]
     },
     "execution_count": 14,
     "metadata": {},
     "output_type": "execute_result"
    }
   ],
   "source": [
    "N_SAMPLES=1000000\n",
    "MAX_DEPTH = 4\n",
    "STATE_SPACE = [\n",
    "    0,\n",
    "    1,\n",
    "    2\n",
    "]\n",
    "\n",
    "contexts = [\n",
    "    '0',\n",
    "    '11',\n",
    "    '21',\n",
    "    '001',\n",
    "    '101',\n",
    "    '0201',\n",
    "    '1201',\n",
    "    '2201',\n",
    "    '02',\n",
    "    '12',\n",
    "    '022',\n",
    "    '122',\n",
    "    '222'\n",
    "]\n",
    "\n",
    "context_probs = {\n",
    "    c: dirichlet_gen_fn() for c in contexts\n",
    "}\n",
    "context_probs"
   ]
  },
  {
   "cell_type": "code",
   "execution_count": 15,
   "id": "c11dfd83-93e9-4bde-8b6d-0fef2abe3138",
   "metadata": {},
   "outputs": [],
   "source": [
    "def context_identification_fn(full_word, ctxts):\n",
    "    context_found = False\n",
    "    context=None\n",
    "    word = copy.deepcopy(full_word)\n",
    "    while not context_found:\n",
    "        if len(word)==0:\n",
    "            import pdb;pdb.set_trace()\n",
    "        if word in ctxts:\n",
    "            context=word\n",
    "            context_found=True\n",
    "        else:\n",
    "            word = word[1:]\n",
    "            \n",
    "            \n",
    "    return context"
   ]
  },
  {
   "cell_type": "code",
   "execution_count": 16,
   "id": "608a1ec6-4221-4667-8a19-a0e045ae8923",
   "metadata": {},
   "outputs": [],
   "source": [
    "sample = [0, 0, 1, 1]\n",
    "i=MAX_DEPTH\n",
    "while len(sample) < N_SAMPLES:\n",
    "    word = ''.join(\n",
    "        [str(x) for x in sample[i-MAX_DEPTH:i]]\n",
    "    )\n",
    "    ctxt = context_identification_fn(\n",
    "        full_word=word,\n",
    "        ctxts=contexts\n",
    "    )\n",
    "    new_state = np.random.choice(\n",
    "        a=STATE_SPACE,\n",
    "        p=context_probs[ctxt]\n",
    "    )\n",
    "    sample.append(new_state)\n",
    "    i+=1\n",
    "    "
   ]
  },
  {
   "cell_type": "code",
   "execution_count": 17,
   "id": "8be24c16-55d3-495a-b0d9-39713ffbb83e",
   "metadata": {
    "tags": []
   },
   "outputs": [
    {
     "data": {
      "text/plain": [
       "(1000000, [0, 0, 1, 1, 2, 2, 1, 0, 0, 0])"
      ]
     },
     "execution_count": 17,
     "metadata": {},
     "output_type": "execute_result"
    }
   ],
   "source": [
    "chain = VLMC(\n",
    "    vocabulary=STATE_SPACE,\n",
    "    max_order=5\n",
    ")\n",
    "len(sample), sample[:10]"
   ]
  },
  {
   "cell_type": "code",
   "execution_count": 18,
   "id": "2d151d05-9b22-4e5c-b201-fe3fb98bc14c",
   "metadata": {},
   "outputs": [
    {
     "name": "stdout",
     "output_type": "stream",
     "text": [
      "root\n",
      "├── 0\n",
      "├── 1\n",
      "│   ├── 01\n",
      "│   │   ├── 001\n",
      "│   │   ├── 101\n",
      "│   │   └── 201\n",
      "│   │       ├── 0201\n",
      "│   │       ├── 1201\n",
      "│   │       └── 2201\n",
      "│   ├── 11\n",
      "│   └── 21\n",
      "└── 2\n",
      "    ├── 02\n",
      "    ├── 12\n",
      "    └── 22\n",
      "        ├── 022\n",
      "        ├── 122\n",
      "        └── 222\n",
      "\n"
     ]
    }
   ],
   "source": [
    "chain.fit(\n",
    "    X=sample,\n",
    "    method='bic',\n",
    "    njobs=10\n",
    ")\n",
    "chain.show_tree().show()"
   ]
  },
  {
   "cell_type": "code",
   "execution_count": 19,
   "id": "6b85c09c-f1f2-4a80-86ba-c2790df35f5c",
   "metadata": {},
   "outputs": [
    {
     "data": {
      "text/plain": [
       "{'0': {'0': 0.5535925075560052,\n",
       "  '1': 0.24523614948567277,\n",
       "  '2': 0.2011756668525941},\n",
       " '001': {'0': 0.35859020996872804,\n",
       "  '1': 0.34341693790286554,\n",
       "  '2': 0.2980088071989278},\n",
       " '101': {'0': 0.34441685256113475,\n",
       "  '1': 0.30746243528768047,\n",
       "  '2': 0.34812071215118484},\n",
       " '0201': {'0': 0.19991173874669022,\n",
       "  '1': 0.28649602824360104,\n",
       "  '2': 0.5135922330097087},\n",
       " '1201': {'0': 0.26836447402098795,\n",
       "  '1': 0.2826977220373688,\n",
       "  '2': 0.44893780394164323},\n",
       " '2201': {'0': 0.19941423659747867,\n",
       "  '1': 0.34521838787724435,\n",
       "  '2': 0.45536737552527695},\n",
       " '11': {'0': 0.29865163168032843,\n",
       "  '1': 0.24078005708420624,\n",
       "  '2': 0.4605823713847841},\n",
       " '21': {'0': 0.4873809614626642,\n",
       "  '1': 0.21619559827592782,\n",
       "  '2': 0.296423440261408},\n",
       " '02': {'0': 0.4948577692282893,\n",
       "  '1': 0.2351133225151258,\n",
       "  '2': 0.27002890825658493},\n",
       " '12': {'0': 0.33234644093240484,\n",
       "  '1': 0.32947958800717236,\n",
       "  '2': 0.33817397106042285},\n",
       " '022': {'0': 0.2671628129104151,\n",
       "  '1': 0.37983046125681535,\n",
       "  '2': 0.35300672583276954},\n",
       " '122': {'0': 0.5126545207928728,\n",
       "  '1': 0.25068590277135544,\n",
       "  '2': 0.23665957643577176},\n",
       " '222': {'0': 0.32689530685920576,\n",
       "  '1': 0.2704693140794224,\n",
       "  '2': 0.40263537906137187}}"
      ]
     },
     "execution_count": 19,
     "metadata": {},
     "output_type": "execute_result"
    }
   ],
   "source": [
    "leaves = chain.get_leaves()\n",
    "{n.word: n.transition_probabilities for n in leaves}"
   ]
  },
  {
   "cell_type": "code",
   "execution_count": 20,
   "id": "b22a7c61-abb7-402a-ae3b-9b7cae6bfe4b",
   "metadata": {},
   "outputs": [
    {
     "data": {
      "text/plain": [
       "{'0': array([0.55407684, 0.24465266, 0.2012705 ]),\n",
       " '11': array([0.30001177, 0.23839307, 0.46159516]),\n",
       " '21': array([0.4900239 , 0.21367809, 0.29629801]),\n",
       " '001': array([0.36018688, 0.34436199, 0.29545113]),\n",
       " '101': array([0.34143145, 0.30443438, 0.35413417]),\n",
       " '0201': array([0.20187306, 0.28412786, 0.51399908]),\n",
       " '1201': array([0.27580266, 0.28451471, 0.43968263]),\n",
       " '2201': array([0.21080697, 0.32627197, 0.46292106]),\n",
       " '02': array([0.49719438, 0.23394048, 0.26886514]),\n",
       " '12': array([0.33337722, 0.3309611 , 0.33566169]),\n",
       " '022': array([0.27054195, 0.3783884 , 0.35106966]),\n",
       " '122': array([0.51398286, 0.24911844, 0.23689871]),\n",
       " '222': array([0.32818303, 0.26778335, 0.40403362])}"
      ]
     },
     "execution_count": 20,
     "metadata": {},
     "output_type": "execute_result"
    }
   ],
   "source": [
    "context_probs"
   ]
  },
  {
   "cell_type": "markdown",
   "id": "5d316fa4-e4c4-4579-a88d-1b86f1dff7f5",
   "metadata": {},
   "source": [
    "# Context Algorithm"
   ]
  },
  {
   "cell_type": "markdown",
   "id": "6f928f80-ebdd-47dc-a177-c9417d6e5328",
   "metadata": {},
   "source": [
    "### 1st Order sample"
   ]
  },
  {
   "cell_type": "code",
   "execution_count": 21,
   "id": "a98c2c62-88fd-4196-bcc1-85f220d1d0e3",
   "metadata": {},
   "outputs": [],
   "source": [
    "N_SAMPLES = 100000\n",
    "\n",
    "# Declare state space and mapping from state number to zero-indexed position in transition matrix\n",
    "STATE_SPACE = [\n",
    "    0,\n",
    "    1\n",
    "]\n",
    "STATE_TO_INDEX_MAP = {\n",
    "    s: i for i, s in enumerate(STATE_SPACE)\n",
    "}\n",
    "\n",
    "Q = np.array([\n",
    "    [0.2, 0.8],\n",
    "    [0.5, 0.5]\n",
    "])\n",
    "\n",
    "X = [1, 1]\n",
    "for i in range(len(X)-1, N_SAMPLES):\n",
    "    current_s = X[i]\n",
    "    X.append(\n",
    "        np.random.choice(\n",
    "            a=STATE_SPACE,\n",
    "            p=Q[current_s,:]\n",
    "        )\n",
    "    )"
   ]
  },
  {
   "cell_type": "code",
   "execution_count": 22,
   "id": "4c36dd72-11a5-4a01-b9d8-fd0e8209b163",
   "metadata": {
    "tags": []
   },
   "outputs": [
    {
     "data": {
      "text/plain": [
       "(100001, [1, 1, 1, 0, 1, 1, 0, 1, 0, 1])"
      ]
     },
     "execution_count": 22,
     "metadata": {},
     "output_type": "execute_result"
    }
   ],
   "source": [
    "chain = VLMC(\n",
    "    vocabulary=STATE_SPACE,\n",
    "    max_order=5\n",
    ")\n",
    "sample=copy.deepcopy(X)\n",
    "len(sample), sample[:10]"
   ]
  },
  {
   "cell_type": "code",
   "execution_count": 23,
   "id": "a1037b66-7738-4633-9ccf-838230e8d338",
   "metadata": {},
   "outputs": [
    {
     "name": "stdout",
     "output_type": "stream",
     "text": [
      "root\n",
      "├── 0\n",
      "└── 1\n",
      "\n"
     ]
    }
   ],
   "source": [
    "chain.fit(\n",
    "    X=sample,\n",
    "    method='context',\n",
    "    njobs=1\n",
    ")\n",
    "chain.show_tree().show()"
   ]
  },
  {
   "cell_type": "code",
   "execution_count": 24,
   "id": "10655a05-712c-49a0-bfe1-b7d5c1d4db27",
   "metadata": {},
   "outputs": [
    {
     "data": {
      "text/plain": [
       "{'0': {'0': 0.2031107758732801, '1': 0.7969152339584363},\n",
       " '1': {'0': 0.49779850200653136, '1': 0.5022502396464605}}"
      ]
     },
     "execution_count": 24,
     "metadata": {},
     "output_type": "execute_result"
    }
   ],
   "source": [
    "leaves = chain.get_leaves()\n",
    "{n.word: n.transition_probabilities for n in leaves}"
   ]
  },
  {
   "cell_type": "code",
   "execution_count": 25,
   "id": "6899f5a2-7f02-40d1-815f-794fbe75a6a6",
   "metadata": {},
   "outputs": [
    {
     "data": {
      "text/plain": [
       "(array([0.2, 0.8]), array([0.5, 0.5]))"
      ]
     },
     "execution_count": 25,
     "metadata": {},
     "output_type": "execute_result"
    }
   ],
   "source": [
    "Q[0], Q[1]"
   ]
  },
  {
   "cell_type": "markdown",
   "id": "9d842bf6-a426-4abb-a888-2f78fec4dddb",
   "metadata": {},
   "source": [
    "### 2nd Order sample"
   ]
  },
  {
   "cell_type": "code",
   "execution_count": 26,
   "id": "43ef5510-5bef-4157-a935-8ff0f3176712",
   "metadata": {},
   "outputs": [],
   "source": [
    "N_SAMPLES = 100000\n",
    "\n",
    "# Declare state space and mapping from state number to zero-indexed position in transition matrix\n",
    "STATE_SPACE = [\n",
    "    0,\n",
    "    1\n",
    "]\n",
    "STATE_TO_INDEX_MAP = {\n",
    "    s: i for i, s in enumerate(STATE_SPACE)\n",
    "}\n",
    "\n",
    "Q = np.array([\n",
    "    [[0.2, 0.8],\n",
    "    [0.1, 0.9]],\n",
    "    [[0.4, 0.6],\n",
    "    [0.8, 0.2]]\n",
    "])\n",
    "\n",
    "X = [1, 1]\n",
    "for i in range(len(X)-1, N_SAMPLES):\n",
    "    # import pdb;pdb.set_trace()\n",
    "    current_s = X[i-1:i+1]\n",
    "    X.append(\n",
    "        np.random.choice(\n",
    "            a=STATE_SPACE,\n",
    "            p=Q[tuple(current_s)]\n",
    "        )\n",
    "    )"
   ]
  },
  {
   "cell_type": "code",
   "execution_count": 27,
   "id": "b2c6787c-7fe2-4566-abda-ca0e794cb26a",
   "metadata": {
    "tags": []
   },
   "outputs": [
    {
     "data": {
      "text/plain": [
       "(100001, [1, 1, 0, 1, 1, 1, 0, 1, 1, 0])"
      ]
     },
     "execution_count": 27,
     "metadata": {},
     "output_type": "execute_result"
    }
   ],
   "source": [
    "chain = VLMC(\n",
    "    vocabulary=STATE_SPACE,\n",
    "    max_order=5\n",
    ")\n",
    "sample=copy.deepcopy(X)\n",
    "len(sample), sample[:10]"
   ]
  },
  {
   "cell_type": "code",
   "execution_count": 28,
   "id": "ddb72338-68b7-4ae9-8aab-21b704bfd502",
   "metadata": {},
   "outputs": [
    {
     "name": "stdout",
     "output_type": "stream",
     "text": [
      "root\n",
      "├── 0\n",
      "│   ├── 00\n",
      "│   └── 10\n",
      "└── 1\n",
      "    ├── 01\n",
      "    └── 11\n",
      "\n"
     ]
    }
   ],
   "source": [
    "chain.fit(\n",
    "    X=sample,\n",
    "    method='context',\n",
    "    njobs=10\n",
    ")\n",
    "chain.show_tree().show()"
   ]
  },
  {
   "cell_type": "code",
   "execution_count": 29,
   "id": "aa0f299e-ec18-4b94-b0bc-a5d85fae17ea",
   "metadata": {},
   "outputs": [
    {
     "data": {
      "text/plain": [
       "{'00': {'0': 0.20195107746068724, '1': 0.7980489225393127},\n",
       " '10': {'0': 0.39697255015571814, '1': 0.6030636633591656},\n",
       " '01': {'0': 0.10194473617499004, '1': 0.8980914786513599},\n",
       " '11': {'0': 0.7991492926884285, '1': 0.20088293107337352}}"
      ]
     },
     "execution_count": 29,
     "metadata": {},
     "output_type": "execute_result"
    }
   ],
   "source": [
    "leaves = chain.get_leaves()\n",
    "{n.word: n.transition_probabilities for n in leaves}"
   ]
  },
  {
   "cell_type": "code",
   "execution_count": 30,
   "id": "13eb15de-0f17-432b-8944-a324f700bfb0",
   "metadata": {},
   "outputs": [
    {
     "data": {
      "text/plain": [
       "(array([0.2, 0.8]), array([0.4, 0.6]), array([0.1, 0.9]), array([0.8, 0.2]))"
      ]
     },
     "execution_count": 30,
     "metadata": {},
     "output_type": "execute_result"
    }
   ],
   "source": [
    "Q[0,0], Q[1,0], Q[0,1], Q[1, 1]"
   ]
  },
  {
   "cell_type": "markdown",
   "id": "a5b91fcf-24a0-48d9-91c8-7ecd87b4679f",
   "metadata": {},
   "source": [
    "### 4th order complex tree"
   ]
  },
  {
   "cell_type": "code",
   "execution_count": 31,
   "id": "09ddcb2b-28ea-4540-ae7e-ce85dfb96398",
   "metadata": {},
   "outputs": [],
   "source": [
    "def dirichlet_gen_fn():\n",
    "    is_valid=False\n",
    "    while not is_valid:\n",
    "        probs = np.random.dirichlet(\n",
    "            alpha = [0.5, 0.5, 0.5]\n",
    "        )\n",
    "        if max(probs)<0.8 and min(probs)>0.2:\n",
    "            is_valid=True\n",
    "    return probs"
   ]
  },
  {
   "cell_type": "code",
   "execution_count": 32,
   "id": "7911dc98-9b9d-490c-82ce-0d4179f586c9",
   "metadata": {},
   "outputs": [
    {
     "data": {
      "text/plain": [
       "{'0': array([0.39312836, 0.38670895, 0.22016269]),\n",
       " '11': array([0.28967432, 0.20439054, 0.50593514]),\n",
       " '21': array([0.4254214 , 0.28260473, 0.29197387]),\n",
       " '001': array([0.42451565, 0.25854842, 0.31693593]),\n",
       " '101': array([0.26252204, 0.36970818, 0.36776977]),\n",
       " '0201': array([0.39302932, 0.25560387, 0.35136681]),\n",
       " '1201': array([0.44238172, 0.20994152, 0.34767676]),\n",
       " '2201': array([0.36975051, 0.37785987, 0.25238962]),\n",
       " '02': array([0.35037085, 0.35627778, 0.29335137]),\n",
       " '12': array([0.26384975, 0.51128641, 0.22486384]),\n",
       " '022': array([0.20725858, 0.42719387, 0.36554756]),\n",
       " '122': array([0.23757598, 0.41598716, 0.34643686]),\n",
       " '222': array([0.54635549, 0.24831904, 0.20532547])}"
      ]
     },
     "execution_count": 32,
     "metadata": {},
     "output_type": "execute_result"
    }
   ],
   "source": [
    "N_SAMPLES=1000000\n",
    "MAX_DEPTH = 4\n",
    "STATE_SPACE = [\n",
    "    0,\n",
    "    1,\n",
    "    2\n",
    "]\n",
    "\n",
    "contexts = [\n",
    "    '0',\n",
    "    '11',\n",
    "    '21',\n",
    "    '001',\n",
    "    '101',\n",
    "    '0201',\n",
    "    '1201',\n",
    "    '2201',\n",
    "    '02',\n",
    "    '12',\n",
    "    '022',\n",
    "    '122',\n",
    "    '222'\n",
    "]\n",
    "\n",
    "context_probs = {\n",
    "    c: dirichlet_gen_fn() for c in contexts\n",
    "}\n",
    "context_probs"
   ]
  },
  {
   "cell_type": "code",
   "execution_count": 33,
   "id": "2106fd52-899e-4da1-98fd-c118cdb83202",
   "metadata": {},
   "outputs": [],
   "source": [
    "def context_identification_fn(full_word, ctxts):\n",
    "    context_found = False\n",
    "    context=None\n",
    "    word = copy.deepcopy(full_word)\n",
    "    while not context_found:\n",
    "        if len(word)==0:\n",
    "            import pdb;pdb.set_trace()\n",
    "        if word in ctxts:\n",
    "            context=word\n",
    "            context_found=True\n",
    "        else:\n",
    "            word = word[1:]\n",
    "            \n",
    "            \n",
    "    return context"
   ]
  },
  {
   "cell_type": "code",
   "execution_count": 34,
   "id": "cbe5cdf2-de32-43e1-8f36-a8505263168e",
   "metadata": {},
   "outputs": [],
   "source": [
    "sample = [0, 0, 1, 1]\n",
    "i=MAX_DEPTH\n",
    "while len(sample) < N_SAMPLES:\n",
    "    word = ''.join(\n",
    "        [str(x) for x in sample[i-MAX_DEPTH:i]]\n",
    "    )\n",
    "    ctxt = context_identification_fn(\n",
    "        full_word=word,\n",
    "        ctxts=contexts\n",
    "    )\n",
    "    new_state = np.random.choice(\n",
    "        a=STATE_SPACE,\n",
    "        p=context_probs[ctxt]\n",
    "    )\n",
    "    sample.append(new_state)\n",
    "    i+=1\n",
    "    "
   ]
  },
  {
   "cell_type": "code",
   "execution_count": 35,
   "id": "a067fa36-f2a3-48a9-b39a-b93592153d37",
   "metadata": {
    "tags": []
   },
   "outputs": [
    {
     "data": {
      "text/plain": [
       "(1000000, [0, 0, 1, 1, 2, 1, 2, 1, 2, 2])"
      ]
     },
     "execution_count": 35,
     "metadata": {},
     "output_type": "execute_result"
    }
   ],
   "source": [
    "chain = VLMC(\n",
    "    vocabulary=STATE_SPACE,\n",
    "    max_order=5\n",
    ")\n",
    "len(sample), sample[:10]"
   ]
  },
  {
   "cell_type": "code",
   "execution_count": 36,
   "id": "cd8a6cf4-5d6f-4331-a4f2-a1d61e4b5019",
   "metadata": {},
   "outputs": [
    {
     "name": "stdout",
     "output_type": "stream",
     "text": [
      "root\n",
      "├── 0\n",
      "├── 1\n",
      "│   ├── 01\n",
      "│   │   ├── 001\n",
      "│   │   ├── 101\n",
      "│   │   └── 201\n",
      "│   │       ├── 0201\n",
      "│   │       ├── 1201\n",
      "│   │       └── 2201\n",
      "│   ├── 11\n",
      "│   └── 21\n",
      "└── 2\n",
      "    ├── 02\n",
      "    ├── 12\n",
      "    └── 22\n",
      "        ├── 022\n",
      "        ├── 122\n",
      "        └── 222\n",
      "\n"
     ]
    }
   ],
   "source": [
    "chain.fit(\n",
    "    X=sample,\n",
    "    method='context',\n",
    "    njobs=10\n",
    ")\n",
    "chain.show_tree().show()"
   ]
  },
  {
   "cell_type": "code",
   "execution_count": 37,
   "id": "c4aaed8f-7366-4953-aaa3-3c882dc7ae8c",
   "metadata": {},
   "outputs": [
    {
     "data": {
      "text/plain": [
       "{'0': {'0': 0.3926518734085122,\n",
       "  '1': 0.38606766096762457,\n",
       "  '2': 0.22128606206452697},\n",
       " '001': {'0': 0.425359380759307,\n",
       "  '1': 0.26103943973461113,\n",
       "  '2': 0.3136196092886104},\n",
       " '101': {'0': 0.2627454909819639,\n",
       "  '1': 0.3671743486973948,\n",
       "  '2': 0.3700801603206413},\n",
       " '0201': {'0': 0.4032804911573353,\n",
       "  '1': 0.25547512141482637,\n",
       "  '2': 0.34124438742783836},\n",
       " '1201': {'0': 0.4427782751417487,\n",
       "  '1': 0.20784840346165323,\n",
       "  '2': 0.34937332139659805},\n",
       " '2201': {'0': 0.3658202507638816,\n",
       "  '1': 0.382467600885049,\n",
       "  '2': 0.2517121483510694},\n",
       " '11': {'0': 0.28957151038683815,\n",
       "  '1': 0.20473785599000363,\n",
       "  '2': 0.5057010464934659},\n",
       " '21': {'0': 0.42445579977669656,\n",
       "  '1': 0.2826662754781872,\n",
       "  '2': 0.29287792474511626},\n",
       " '02': {'0': 0.35254991717353096,\n",
       "  '1': 0.3551548412387299,\n",
       "  '2': 0.2922952415877392},\n",
       " '12': {'0': 0.2635301494089401,\n",
       "  '1': 0.5101007783945803,\n",
       "  '2': 0.22636907219647964},\n",
       " '022': {'0': 0.21263248972528662,\n",
       "  '1': 0.4220203331170236,\n",
       "  '2': 0.36534717715768983},\n",
       " '122': {'0': 0.23837189663908123,\n",
       "  '1': 0.41702415132578957,\n",
       "  '2': 0.3446039520351292},\n",
       " '222': {'0': 0.5503085361672951,\n",
       "  '1': 0.24871443263627013,\n",
       "  '2': 0.2009770311964347}}"
      ]
     },
     "execution_count": 37,
     "metadata": {},
     "output_type": "execute_result"
    }
   ],
   "source": [
    "leaves = chain.get_leaves()\n",
    "{n.word: n.transition_probabilities for n in leaves}"
   ]
  },
  {
   "cell_type": "code",
   "execution_count": 38,
   "id": "89f6e6eb-8670-4714-a640-156e8f8cfe91",
   "metadata": {},
   "outputs": [
    {
     "data": {
      "text/plain": [
       "{'0': array([0.39312836, 0.38670895, 0.22016269]),\n",
       " '11': array([0.28967432, 0.20439054, 0.50593514]),\n",
       " '21': array([0.4254214 , 0.28260473, 0.29197387]),\n",
       " '001': array([0.42451565, 0.25854842, 0.31693593]),\n",
       " '101': array([0.26252204, 0.36970818, 0.36776977]),\n",
       " '0201': array([0.39302932, 0.25560387, 0.35136681]),\n",
       " '1201': array([0.44238172, 0.20994152, 0.34767676]),\n",
       " '2201': array([0.36975051, 0.37785987, 0.25238962]),\n",
       " '02': array([0.35037085, 0.35627778, 0.29335137]),\n",
       " '12': array([0.26384975, 0.51128641, 0.22486384]),\n",
       " '022': array([0.20725858, 0.42719387, 0.36554756]),\n",
       " '122': array([0.23757598, 0.41598716, 0.34643686]),\n",
       " '222': array([0.54635549, 0.24831904, 0.20532547])}"
      ]
     },
     "execution_count": 38,
     "metadata": {},
     "output_type": "execute_result"
    }
   ],
   "source": [
    "context_probs"
   ]
  },
  {
   "cell_type": "markdown",
   "id": "af102e1a-6141-40fb-9ba8-60c698fe8688",
   "metadata": {},
   "source": [
    "# BCT"
   ]
  },
  {
   "cell_type": "markdown",
   "id": "7099e198-fda4-4dfc-81c4-ead2552faa13",
   "metadata": {},
   "source": [
    "### 1st Order sample"
   ]
  },
  {
   "cell_type": "code",
   "execution_count": 39,
   "id": "697afe74-e369-4d05-87df-32711b7b7000",
   "metadata": {},
   "outputs": [],
   "source": [
    "N_SAMPLES = 100000\n",
    "\n",
    "# Declare state space and mapping from state number to zero-indexed position in transition matrix\n",
    "STATE_SPACE = [\n",
    "    0,\n",
    "    1\n",
    "]\n",
    "STATE_TO_INDEX_MAP = {\n",
    "    s: i for i, s in enumerate(STATE_SPACE)\n",
    "}\n",
    "\n",
    "Q = np.array([\n",
    "    [0.2, 0.8],\n",
    "    [0.5, 0.5]\n",
    "])\n",
    "\n",
    "X = [1, 1]\n",
    "for i in range(len(X)-1, N_SAMPLES):\n",
    "    current_s = X[i]\n",
    "    X.append(\n",
    "        np.random.choice(\n",
    "            a=STATE_SPACE,\n",
    "            p=Q[current_s,:]\n",
    "        )\n",
    "    )"
   ]
  },
  {
   "cell_type": "code",
   "execution_count": 40,
   "id": "a333ff46-46f3-4739-b489-12a97914ac93",
   "metadata": {
    "tags": []
   },
   "outputs": [
    {
     "data": {
      "text/plain": [
       "(100001, [1, 1, 0, 1, 0, 0, 1, 1, 1, 0])"
      ]
     },
     "execution_count": 40,
     "metadata": {},
     "output_type": "execute_result"
    }
   ],
   "source": [
    "chain = VLMC(\n",
    "    vocabulary=STATE_SPACE,\n",
    "    max_order=5\n",
    ")\n",
    "sample=copy.deepcopy(X)\n",
    "len(sample), sample[:10]"
   ]
  },
  {
   "cell_type": "code",
   "execution_count": 41,
   "id": "a4dd9b4e-4893-43f3-9c0f-c7b6fb5bcdb1",
   "metadata": {},
   "outputs": [
    {
     "name": "stderr",
     "output_type": "stream",
     "text": [
      "/home/leonardo/git/markov_chains/vlmc/vlmc/bct_solver.py:33: VisibleDeprecationWarning: Creating an ndarray from ragged nested sequences (which is a list-or-tuple of lists-or-tuples-or ndarrays with different lengths or shapes) is deprecated. If you meant to do this, you must specify 'dtype=object' when creating the ndarray.\n",
      "  prod_vectors = np.array([\n",
      "/home/leonardo/git/markov_chains/vlmc/vlmc/bct_solver.py:90: VisibleDeprecationWarning: Creating an ndarray from ragged nested sequences (which is a list-or-tuple of lists-or-tuples-or ndarrays with different lengths or shapes) is deprecated. If you meant to do this, you must specify 'dtype=object' when creating the ndarray.\n",
      "  prod_vectors = np.array([\n"
     ]
    },
    {
     "name": "stdout",
     "output_type": "stream",
     "text": [
      "root\n",
      "├── 0\n",
      "└── 1\n",
      "\n"
     ]
    }
   ],
   "source": [
    "chain.fit(\n",
    "    X=sample,\n",
    "    method='bct',\n",
    "    njobs=1\n",
    ")\n",
    "chain.show_tree().show()"
   ]
  },
  {
   "cell_type": "code",
   "execution_count": 42,
   "id": "f311aedc-cd12-472b-8c4e-c30102b885ac",
   "metadata": {},
   "outputs": [
    {
     "data": {
      "text/plain": [
       "{'0': {'0': 0.2020065498778396, '1': 0.7980194417008889},\n",
       " '1': {'0': 0.4990572478137902, '1': 0.5009915152303241}}"
      ]
     },
     "execution_count": 42,
     "metadata": {},
     "output_type": "execute_result"
    }
   ],
   "source": [
    "leaves = chain.get_leaves()\n",
    "{n.word: n.transition_probabilities for n in leaves}"
   ]
  },
  {
   "cell_type": "code",
   "execution_count": 43,
   "id": "e1b5b6bf-94e3-4f4c-b202-7ba40aad62eb",
   "metadata": {},
   "outputs": [
    {
     "data": {
      "text/plain": [
       "(array([0.2, 0.8]), array([0.5, 0.5]))"
      ]
     },
     "execution_count": 43,
     "metadata": {},
     "output_type": "execute_result"
    }
   ],
   "source": [
    "Q[0], Q[1]"
   ]
  },
  {
   "cell_type": "markdown",
   "id": "8112edcf-4e52-4286-b38c-ccf34ca8f970",
   "metadata": {},
   "source": [
    "### 2nd Order sample"
   ]
  },
  {
   "cell_type": "code",
   "execution_count": 44,
   "id": "6b3a0bc8-c223-4b7f-880e-5f54d0e060f8",
   "metadata": {},
   "outputs": [],
   "source": [
    "N_SAMPLES = 100000\n",
    "\n",
    "# Declare state space and mapping from state number to zero-indexed position in transition matrix\n",
    "STATE_SPACE = [\n",
    "    0,\n",
    "    1\n",
    "]\n",
    "STATE_TO_INDEX_MAP = {\n",
    "    s: i for i, s in enumerate(STATE_SPACE)\n",
    "}\n",
    "\n",
    "Q = np.array([\n",
    "    [[0.2, 0.8],\n",
    "    [0.1, 0.9]],\n",
    "    [[0.4, 0.6],\n",
    "    [0.8, 0.2]]\n",
    "])\n",
    "\n",
    "X = [1, 1]\n",
    "for i in range(len(X)-1, N_SAMPLES):\n",
    "    # import pdb;pdb.set_trace()\n",
    "    current_s = X[i-1:i+1]\n",
    "    X.append(\n",
    "        np.random.choice(\n",
    "            a=STATE_SPACE,\n",
    "            p=Q[tuple(current_s)]\n",
    "        )\n",
    "    )"
   ]
  },
  {
   "cell_type": "code",
   "execution_count": 45,
   "id": "3ceeacd3-ceff-4a75-932c-2ef429e5ad5f",
   "metadata": {
    "tags": []
   },
   "outputs": [
    {
     "data": {
      "text/plain": [
       "(100001, [1, 1, 0, 1, 1, 0, 0, 1, 1, 1])"
      ]
     },
     "execution_count": 45,
     "metadata": {},
     "output_type": "execute_result"
    }
   ],
   "source": [
    "chain = VLMC(\n",
    "    vocabulary=STATE_SPACE,\n",
    "    max_order=5\n",
    ")\n",
    "sample=copy.deepcopy(X)\n",
    "len(sample), sample[:10]"
   ]
  },
  {
   "cell_type": "code",
   "execution_count": 46,
   "id": "dc0b683c-6858-4aec-94a2-a9ef77fecb1c",
   "metadata": {},
   "outputs": [
    {
     "name": "stdout",
     "output_type": "stream",
     "text": [
      "root\n",
      "├── 0\n",
      "│   ├── 00\n",
      "│   └── 10\n",
      "└── 1\n",
      "    ├── 01\n",
      "    └── 11\n",
      "\n"
     ]
    }
   ],
   "source": [
    "chain.fit(\n",
    "    X=sample,\n",
    "    method='bct',\n",
    "    njobs=10\n",
    ")\n",
    "chain.show_tree().show()"
   ]
  },
  {
   "cell_type": "code",
   "execution_count": 47,
   "id": "588d5a30-a279-46ee-8477-0fd53ae5a4d8",
   "metadata": {},
   "outputs": [
    {
     "data": {
      "text/plain": [
       "{'00': {'0': 0.19727101175787487, '1': 0.8027289882421251},\n",
       " '10': {'0': 0.40086988039144617, '1': 0.5991663646248641},\n",
       " '01': {'0': 0.10090612540775644, '1': 0.8991301196085538},\n",
       " '11': {'0': 0.7992783040144339, '1': 0.20075391455635028}}"
      ]
     },
     "execution_count": 47,
     "metadata": {},
     "output_type": "execute_result"
    }
   ],
   "source": [
    "leaves = chain.get_leaves()\n",
    "{n.word: n.transition_probabilities for n in leaves}"
   ]
  },
  {
   "cell_type": "code",
   "execution_count": 48,
   "id": "291fb1d6-a146-4377-9c8c-ed72493b7ba3",
   "metadata": {},
   "outputs": [
    {
     "data": {
      "text/plain": [
       "(array([0.2, 0.8]), array([0.4, 0.6]), array([0.1, 0.9]), array([0.8, 0.2]))"
      ]
     },
     "execution_count": 48,
     "metadata": {},
     "output_type": "execute_result"
    }
   ],
   "source": [
    "Q[0,0], Q[1,0], Q[0,1], Q[1, 1]"
   ]
  },
  {
   "cell_type": "markdown",
   "id": "a55549ef-c558-4606-ae33-b38bb673ce69",
   "metadata": {},
   "source": [
    "### 4th order complex tree"
   ]
  },
  {
   "cell_type": "code",
   "execution_count": 49,
   "id": "b4132a23-6025-40fc-821f-5c6f0a6a7a28",
   "metadata": {},
   "outputs": [],
   "source": [
    "def dirichlet_gen_fn():\n",
    "    is_valid=False\n",
    "    while not is_valid:\n",
    "        probs = np.random.dirichlet(\n",
    "            alpha = [0.5, 0.5, 0.5]\n",
    "        )\n",
    "        if max(probs)<0.8 and min(probs)>0.2:\n",
    "            is_valid=True\n",
    "    return probs"
   ]
  },
  {
   "cell_type": "code",
   "execution_count": 50,
   "id": "e48aaad6-d362-472d-8e43-2e42fa941407",
   "metadata": {},
   "outputs": [
    {
     "data": {
      "text/plain": [
       "{'0': array([0.36847725, 0.42965646, 0.20186629]),\n",
       " '11': array([0.31288397, 0.38579749, 0.30131855]),\n",
       " '21': array([0.34256738, 0.28733514, 0.37009748]),\n",
       " '001': array([0.2008652 , 0.30623691, 0.49289789]),\n",
       " '101': array([0.21379502, 0.38992394, 0.39628104]),\n",
       " '0201': array([0.22261146, 0.52047779, 0.25691075]),\n",
       " '1201': array([0.34960812, 0.41727646, 0.23311541]),\n",
       " '2201': array([0.28975376, 0.31290698, 0.39733926]),\n",
       " '02': array([0.49034094, 0.20173961, 0.30791944]),\n",
       " '12': array([0.20623951, 0.45626518, 0.33749531]),\n",
       " '022': array([0.49990591, 0.27428841, 0.22580568]),\n",
       " '122': array([0.38482736, 0.26769893, 0.34747371]),\n",
       " '222': array([0.35130201, 0.39288887, 0.25580912])}"
      ]
     },
     "execution_count": 50,
     "metadata": {},
     "output_type": "execute_result"
    }
   ],
   "source": [
    "N_SAMPLES=1000000\n",
    "MAX_DEPTH = 4\n",
    "STATE_SPACE = [\n",
    "    0,\n",
    "    1,\n",
    "    2\n",
    "]\n",
    "\n",
    "contexts = [\n",
    "    '0',\n",
    "    '11',\n",
    "    '21',\n",
    "    '001',\n",
    "    '101',\n",
    "    '0201',\n",
    "    '1201',\n",
    "    '2201',\n",
    "    '02',\n",
    "    '12',\n",
    "    '022',\n",
    "    '122',\n",
    "    '222'\n",
    "]\n",
    "\n",
    "context_probs = {\n",
    "    c: dirichlet_gen_fn() for c in contexts\n",
    "}\n",
    "context_probs"
   ]
  },
  {
   "cell_type": "code",
   "execution_count": 51,
   "id": "387fb3c1-7915-4a87-b8c1-cf8bd01288d2",
   "metadata": {},
   "outputs": [],
   "source": [
    "def context_identification_fn(full_word, ctxts):\n",
    "    context_found = False\n",
    "    context=None\n",
    "    word = copy.deepcopy(full_word)\n",
    "    while not context_found:\n",
    "        if len(word)==0:\n",
    "            import pdb;pdb.set_trace()\n",
    "        if word in ctxts:\n",
    "            context=word\n",
    "            context_found=True\n",
    "        else:\n",
    "            word = word[1:]\n",
    "            \n",
    "            \n",
    "    return context"
   ]
  },
  {
   "cell_type": "code",
   "execution_count": 52,
   "id": "127af15e-a8e4-41d4-8b98-9196ca9a46e9",
   "metadata": {},
   "outputs": [],
   "source": [
    "sample = [0, 0, 1, 1]\n",
    "i=MAX_DEPTH\n",
    "while len(sample) < N_SAMPLES:\n",
    "    word = ''.join(\n",
    "        [str(x) for x in sample[i-MAX_DEPTH:i]]\n",
    "    )\n",
    "    ctxt = context_identification_fn(\n",
    "        full_word=word,\n",
    "        ctxts=contexts\n",
    "    )\n",
    "    new_state = np.random.choice(\n",
    "        a=STATE_SPACE,\n",
    "        p=context_probs[ctxt]\n",
    "    )\n",
    "    sample.append(new_state)\n",
    "    i+=1\n",
    "    "
   ]
  },
  {
   "cell_type": "code",
   "execution_count": 53,
   "id": "13549b97-1141-44f8-8614-f7cba90b79ac",
   "metadata": {
    "tags": []
   },
   "outputs": [
    {
     "data": {
      "text/plain": [
       "(1000000, [0, 0, 1, 1, 1, 0, 0, 1, 1, 2])"
      ]
     },
     "execution_count": 53,
     "metadata": {},
     "output_type": "execute_result"
    }
   ],
   "source": [
    "chain = VLMC(\n",
    "    vocabulary=STATE_SPACE,\n",
    "    max_order=5\n",
    ")\n",
    "len(sample), sample[:10]"
   ]
  },
  {
   "cell_type": "code",
   "execution_count": 54,
   "id": "0fad63e0-6b8d-403d-8328-a1113a52b3fa",
   "metadata": {},
   "outputs": [
    {
     "name": "stdout",
     "output_type": "stream",
     "text": [
      "root\n",
      "├── 0\n",
      "├── 1\n",
      "│   ├── 01\n",
      "│   │   ├── 001\n",
      "│   │   ├── 101\n",
      "│   │   └── 201\n",
      "│   │       ├── 0201\n",
      "│   │       ├── 1201\n",
      "│   │       └── 2201\n",
      "│   ├── 11\n",
      "│   └── 21\n",
      "└── 2\n",
      "    ├── 02\n",
      "    ├── 12\n",
      "    └── 22\n",
      "        ├── 022\n",
      "        ├── 122\n",
      "        └── 222\n",
      "\n"
     ]
    }
   ],
   "source": [
    "chain.fit(\n",
    "    X=sample,\n",
    "    method='bct',\n",
    "    njobs=10\n",
    ")\n",
    "chain.show_tree().show()"
   ]
  },
  {
   "cell_type": "code",
   "execution_count": 55,
   "id": "57721e03-ebcf-45ea-8136-683a684682cc",
   "metadata": {},
   "outputs": [
    {
     "data": {
      "text/plain": [
       "{'0': {'0': 0.3683614715906837,\n",
       "  '1': 0.43023309034653845,\n",
       "  '2': 0.2014115407030852},\n",
       " '001': {'0': 0.2012988256929944,\n",
       "  '1': 0.3066033217754449,\n",
       "  '2': 0.4921170092526963},\n",
       " '101': {'0': 0.21825582882230085,\n",
       "  '1': 0.3890286006564085,\n",
       "  '2': 0.39271557052129064},\n",
       " '0201': {'0': 0.225007286505392,\n",
       "  '1': 0.52083940542116,\n",
       "  '2': 0.254153308073448},\n",
       " '1201': {'0': 0.34297658862876257,\n",
       "  '1': 0.42558528428093645,\n",
       "  '2': 0.231438127090301},\n",
       " '2201': {'0': 0.2894818108825891,\n",
       "  '1': 0.31332221604595145,\n",
       "  '2': 0.39719597307145943},\n",
       " '11': {'0': 0.31198803010609677,\n",
       "  '1': 0.38525073300486656,\n",
       "  '2': 0.3027687936402382},\n",
       " '21': {'0': 0.34196786374845867,\n",
       "  '1': 0.2868950369913687,\n",
       "  '2': 0.37113709926017263},\n",
       " '02': {'0': 0.4882438492303963,\n",
       "  '1': 0.2028693491697976,\n",
       "  '2': 0.3088868015998061},\n",
       " '12': {'0': 0.20566338739696888,\n",
       "  '1': 0.45679340600904017,\n",
       "  '2': 0.33754320659399095},\n",
       " '022': {'0': 0.5021335033596547,\n",
       "  '1': 0.26739908774339105,\n",
       "  '2': 0.23046740889695425},\n",
       " '122': {'0': 0.38617565970854667,\n",
       "  '1': 0.26653100520764955,\n",
       "  '2': 0.3472933350838038},\n",
       " '222': {'0': 0.3486158856522526,\n",
       "  '1': 0.3957662384657138,\n",
       "  '2': 0.25561787588203366}}"
      ]
     },
     "execution_count": 55,
     "metadata": {},
     "output_type": "execute_result"
    }
   ],
   "source": [
    "leaves = chain.get_leaves()\n",
    "{n.word: n.transition_probabilities for n in leaves}"
   ]
  },
  {
   "cell_type": "code",
   "execution_count": 56,
   "id": "a491be43-fdff-4cd2-a994-6931950f584d",
   "metadata": {},
   "outputs": [
    {
     "data": {
      "text/plain": [
       "{'0': array([0.36847725, 0.42965646, 0.20186629]),\n",
       " '11': array([0.31288397, 0.38579749, 0.30131855]),\n",
       " '21': array([0.34256738, 0.28733514, 0.37009748]),\n",
       " '001': array([0.2008652 , 0.30623691, 0.49289789]),\n",
       " '101': array([0.21379502, 0.38992394, 0.39628104]),\n",
       " '0201': array([0.22261146, 0.52047779, 0.25691075]),\n",
       " '1201': array([0.34960812, 0.41727646, 0.23311541]),\n",
       " '2201': array([0.28975376, 0.31290698, 0.39733926]),\n",
       " '02': array([0.49034094, 0.20173961, 0.30791944]),\n",
       " '12': array([0.20623951, 0.45626518, 0.33749531]),\n",
       " '022': array([0.49990591, 0.27428841, 0.22580568]),\n",
       " '122': array([0.38482736, 0.26769893, 0.34747371]),\n",
       " '222': array([0.35130201, 0.39288887, 0.25580912])}"
      ]
     },
     "execution_count": 56,
     "metadata": {},
     "output_type": "execute_result"
    }
   ],
   "source": [
    "context_probs"
   ]
  },
  {
   "cell_type": "code",
   "execution_count": null,
   "id": "4d2d87cd-a241-45cc-9328-c6cf66972882",
   "metadata": {},
   "outputs": [],
   "source": []
  }
 ],
 "metadata": {
  "kernelspec": {
   "display_name": "Python 3 (ipykernel)",
   "language": "python",
   "name": "python3"
  },
  "language_info": {
   "codemirror_mode": {
    "name": "ipython",
    "version": 3
   },
   "file_extension": ".py",
   "mimetype": "text/x-python",
   "name": "python",
   "nbconvert_exporter": "python",
   "pygments_lexer": "ipython3",
   "version": "3.8.10"
  }
 },
 "nbformat": 4,
 "nbformat_minor": 5
}
